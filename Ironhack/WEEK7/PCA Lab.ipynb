{
 "cells": [
  {
   "cell_type": "markdown",
   "metadata": {
    "id": "xLLW4yjDFDOg"
   },
   "source": [
    "# Before your start:\n",
    "- Read the README.md file\n",
    "- Comment as much as you can and use the resources (README.md file)\n",
    "- Happy learning!"
   ]
  },
  {
   "cell_type": "code",
   "execution_count": 1,
   "metadata": {
    "ExecuteTime": {
     "end_time": "2021-05-04T18:02:37.935477Z",
     "start_time": "2021-05-04T18:02:37.350852Z"
    },
    "id": "5IO5yAWPFDOl"
   },
   "outputs": [],
   "source": [
    "%matplotlib inline\n",
    "import matplotlib.pyplot as plt"
   ]
  },
  {
   "cell_type": "code",
   "execution_count": 2,
   "metadata": {
    "ExecuteTime": {
     "end_time": "2021-05-04T18:02:38.670067Z",
     "start_time": "2021-05-04T18:02:37.942534Z"
    },
    "id": "MGqPNs-JFDOm"
   },
   "outputs": [],
   "source": [
    "# Import numpy and pandas:\n",
    "import numpy as np\n",
    "import pandas as pd"
   ]
  },
  {
   "cell_type": "markdown",
   "metadata": {
    "id": "nISH216QFDOm"
   },
   "source": [
    "# Challenge 1 - Reading and Standardizing the Data\n",
    "\n",
    "In this challenge we will work with image data and reduce the dimensions of the data to create a 2 dimensional plot. While we have not worked much with image data before, it can be represented as a numpy array where each pixel is assigned a numeric value. In this lesson, we will look at a dataset of cats and a dataset of dogs and see whether reducing them to two dimensions allows us to see if the data is separable. We will start by loading and processing the data. Run the cell below to load the two csv files and convert them into numpy arrays."
   ]
  },
  {
   "cell_type": "code",
   "execution_count": 3,
   "metadata": {
    "ExecuteTime": {
     "end_time": "2021-05-04T18:03:15.762956Z",
     "start_time": "2021-05-04T18:02:38.680035Z"
    },
    "id": "6sb4RKhGFDOm"
   },
   "outputs": [],
   "source": [
    "cats = np.array(pd.read_csv(\"https://raw.githubusercontent.com/bioramble/pca/master/cat.csv\", header=None))\n",
    "dogs = np.array(pd.read_csv(\"https://raw.githubusercontent.com/bioramble/pca/master/dog.csv\", header=None))"
   ]
  },
  {
   "cell_type": "markdown",
   "metadata": {
    "id": "ea9CtFZOFDOn"
   },
   "source": [
    "Next, we'll examine the shape of both the cats and the dogs arrays. Print out both shapes below."
   ]
  },
  {
   "cell_type": "code",
   "execution_count": 4,
   "metadata": {
    "ExecuteTime": {
     "end_time": "2021-05-04T18:03:15.778921Z",
     "start_time": "2021-05-04T18:03:15.764956Z"
    },
    "id": "zwfJ_fAzFDOn",
    "outputId": "7ba12f2a-ea93-45a9-b98d-8ab77ae243c6"
   },
   "outputs": [
    {
     "data": {
      "text/plain": [
       "(4096, 80)"
      ]
     },
     "execution_count": 4,
     "metadata": {},
     "output_type": "execute_result"
    }
   ],
   "source": [
    "cats.shape"
   ]
  },
  {
   "cell_type": "code",
   "execution_count": 5,
   "metadata": {
    "ExecuteTime": {
     "end_time": "2021-05-04T18:03:15.794875Z",
     "start_time": "2021-05-04T18:03:15.780914Z"
    },
    "id": "FFzKMIp2FDOo",
    "outputId": "a719376c-ac66-4766-cb59-9c7461c6a3db"
   },
   "outputs": [
    {
     "data": {
      "text/plain": [
       "(4096, 80)"
      ]
     },
     "execution_count": 5,
     "metadata": {},
     "output_type": "execute_result"
    }
   ],
   "source": [
    "dogs.shape"
   ]
  },
  {
   "cell_type": "markdown",
   "metadata": {
    "id": "y_lOarPjFDOo"
   },
   "source": [
    "What this means is that both arrays contain 80 images each (the number of columns). Each image is comprised of 64x64 pixels (so a total of 4096 pixels per image). The images have been flattened such that all 4096 are in a single row.\n",
    "\n",
    "Print out column 0 of the cats array to see what the pixels values look like."
   ]
  },
  {
   "cell_type": "code",
   "execution_count": 6,
   "metadata": {
    "ExecuteTime": {
     "end_time": "2021-05-04T18:03:15.809835Z",
     "start_time": "2021-05-04T18:03:15.798865Z"
    },
    "id": "hiQS9EY8FDOo"
   },
   "outputs": [
    {
     "data": {
      "text/plain": [
       "array([[101, 107, 106, ..., 149, 208, 159],\n",
       "       [102, 111, 113, ..., 195, 180, 138],\n",
       "       [106, 113, 108, ..., 190, 134, 125],\n",
       "       ...,\n",
       "       [ 99,  99,  99, ..., 105, 118, 129],\n",
       "       [ 96, 101,  96, ..., 103, 103, 120],\n",
       "       [ 94, 100,  99, ..., 114,  91, 113]], dtype=int64)"
      ]
     },
     "execution_count": 6,
     "metadata": {},
     "output_type": "execute_result"
    }
   ],
   "source": [
    "cats[:, 79].reshape(64, 64)"
   ]
  },
  {
   "cell_type": "markdown",
   "metadata": {
    "id": "9UvFnMgPFDOo"
   },
   "source": [
    "Using `matplotlib` we can plot a single cat or a single dog. We do this by reshaping the vector back to a 64x64 image and then using the `imshow` function.\n",
    "\n",
    "Run the code below to look at the first dog and the first cat."
   ]
  },
  {
   "cell_type": "code",
   "execution_count": 7,
   "metadata": {
    "ExecuteTime": {
     "end_time": "2021-05-04T18:03:16.105273Z",
     "start_time": "2021-05-04T18:03:15.814822Z"
    },
    "id": "AcqumTdRFDOp",
    "outputId": "97aa7604-9987-474a-dd74-8a0b45cfbd79"
   },
   "outputs": [
    {
     "data": {
      "text/plain": [
       "<matplotlib.image.AxesImage at 0x288eab81940>"
      ]
     },
     "execution_count": 7,
     "metadata": {},
     "output_type": "execute_result"
    },
    {
     "data": {
      "image/png": "[encoded data removed]",
      "text/plain": [
       "<Figure size 432x288 with 1 Axes>"
      ]
     },
     "metadata": {
      "needs_background": "light"
     },
     "output_type": "display_data"
    }
   ],
   "source": [
    "fig, ax = plt.subplots()\n",
    "ax.imshow(cats[:,70].reshape(64, 64).T, cmap=plt.cm.bone, interpolation='nearest') "
   ]
  },
  {
   "cell_type": "code",
   "execution_count": 8,
   "metadata": {
    "ExecuteTime": {
     "end_time": "2021-05-04T18:03:16.372432Z",
     "start_time": "2021-05-04T18:03:16.109259Z"
    },
    "id": "CZzjFZRdFDOp",
    "outputId": "4e5bd9ca-1742-4f29-c9bb-f893baf36747"
   },
   "outputs": [
    {
     "data": {
      "text/plain": [
       "<matplotlib.image.AxesImage at 0x288eaecd850>"
      ]
     },
     "execution_count": 8,
     "metadata": {},
     "output_type": "execute_result"
    },
    {
     "data": {
      "image/png": "[encoded data removed]",
      "text/plain": [
       "<Figure size 432x288 with 1 Axes>"
      ]
     },
     "metadata": {
      "needs_background": "light"
     },
     "output_type": "display_data"
    }
   ],
   "source": [
    "fig, ax = plt.subplots()\n",
    "ax.imshow(dogs[:,76].reshape(64, 64).T, cmap=plt.cm.bone, interpolation='nearest') "
   ]
  },
  {
   "cell_type": "markdown",
   "metadata": {
    "id": "PycXeWQNFDOp"
   },
   "source": [
    "Next, we would like to create a standardization function. This function will find the mean and standard deviation of each image. We subtract the mean from each pixel and divide each pixel by the standard deviation. Write the function below."
   ]
  },
  {
   "cell_type": "code",
   "execution_count": 26,
   "metadata": {
    "ExecuteTime": {
     "end_time": "2021-05-04T18:03:42.600364Z",
     "start_time": "2021-05-04T18:03:42.582433Z"
    }
   },
   "outputs": [
    {
     "data": {
      "text/plain": [
       "(4096, 80)"
      ]
     },
     "execution_count": 26,
     "metadata": {},
     "output_type": "execute_result"
    }
   ],
   "source": [
    "dogs.shape"
   ]
  },
  {
   "cell_type": "code",
   "execution_count": 25,
   "metadata": {
    "ExecuteTime": {
     "end_time": "2021-05-04T18:03:38.527928Z",
     "start_time": "2021-05-04T18:03:38.517708Z"
    }
   },
   "outputs": [
    {
     "data": {
      "text/plain": [
       "(4096, 80)"
      ]
     },
     "execution_count": 25,
     "metadata": {},
     "output_type": "execute_result"
    }
   ],
   "source": [
    "cats.shape"
   ]
  },
  {
   "cell_type": "code",
   "execution_count": 27,
   "metadata": {
    "ExecuteTime": {
     "end_time": "2021-05-04T18:04:56.583137Z",
     "start_time": "2021-05-04T18:04:56.572654Z"
    },
    "id": "7JM7-kq0FDOp"
   },
   "outputs": [],
   "source": [
    "def standardizate(imagem):\n",
    "    img_mean = imagem.mean()\n",
    "    img_std = imagem.std()\n",
    "    for i in range(len(imagem)):\n",
    "        imagem[i] = (imagem[i] - img_mean)/img_std  \n",
    "    return imagem"
   ]
  },
  {
   "cell_type": "code",
   "execution_count": 31,
   "metadata": {
    "ExecuteTime": {
     "end_time": "2021-05-04T18:08:55.977403Z",
     "start_time": "2021-05-04T18:08:55.961443Z"
    }
   },
   "outputs": [],
   "source": [
    "def standardizate1(imagem):\n",
    "    for i in range(len(imagem[0])):\n",
    "        img_mean = imagem[:,i].mean()\n",
    "        img_std = imagem[:,i].std()\n",
    "        imagem[:,i] = (imagem[:,i] - img_mean)/img_std  \n",
    "    return imagem"
   ]
  },
  {
   "cell_type": "markdown",
   "metadata": {
    "id": "bOFINuuHFDOq"
   },
   "source": [
    "Now, use the `np.concatenate` function to combine the cats and dogs arrays. Use `axis=1` to combine the two correctly. Make sure to put dogs first."
   ]
  },
  {
   "cell_type": "code",
   "execution_count": 10,
   "metadata": {
    "ExecuteTime": {
     "end_time": "2021-05-04T18:03:16.404399Z",
     "start_time": "2021-05-04T18:03:16.391423Z"
    },
    "id": "V2VJM2NYFDOq"
   },
   "outputs": [
    {
     "data": {
      "text/plain": [
       "array([[224, 131, 127, ...,  60, 223, 101],\n",
       "       [224, 124, 136, ...,  50, 224, 107],\n",
       "       [224, 104, 127, ...,  63, 225, 106],\n",
       "       ...,\n",
       "       [100, 104, 115, ..., 105, 180, 114],\n",
       "       [100, 124, 104, ..., 118, 182,  91],\n",
       "       [100, 124, 104, ..., 104, 177, 113]], dtype=int64)"
      ]
     },
     "execution_count": 10,
     "metadata": {},
     "output_type": "execute_result"
    }
   ],
   "source": [
    "conc_img = np.concatenate([dogs, cats], axis = 1)\n",
    "conc_img"
   ]
  },
  {
   "cell_type": "markdown",
   "metadata": {
    "id": "t5vLizrjFDOq"
   },
   "source": [
    "Standardize the concatenated array below."
   ]
  },
  {
   "cell_type": "code",
   "execution_count": 34,
   "metadata": {
    "ExecuteTime": {
     "end_time": "2021-05-04T18:11:03.724861Z",
     "start_time": "2021-05-04T18:11:03.697932Z"
    },
    "id": "jX1IQ5AwFDOq"
   },
   "outputs": [
    {
     "data": {
      "text/plain": [
       "array([[ 2,  0,  0, ...,  0,  1,  0],\n",
       "       [ 2,  0,  0, ..., -3,  1,  0],\n",
       "       [ 2,  0,  0, ...,  0,  1,  0],\n",
       "       ...,\n",
       "       [ 0,  0,  0, ...,  0,  0,  0],\n",
       "       [ 0,  0,  0, ...,  0,  0,  0],\n",
       "       [ 0,  0,  0, ...,  0,  0,  0]], dtype=int64)"
      ]
     },
     "execution_count": 34,
     "metadata": {},
     "output_type": "execute_result"
    }
   ],
   "source": [
    "standardizate1(conc_img)"
   ]
  },
  {
   "cell_type": "markdown",
   "metadata": {
    "id": "kRMcgTapFDOq"
   },
   "source": [
    "# Challenge 2 - Using PCA\n",
    "\n",
    "Now that we have created a standardized matrix of cats and dogs, we'll find the two most important components in the data.\n",
    "\n",
    "Load the `PCA` function. Create a PCA model with two components.\n",
    "You might need to transpose your data to get the right results."
   ]
  },
  {
   "cell_type": "code",
   "execution_count": 12,
   "metadata": {
    "ExecuteTime": {
     "end_time": "2021-05-04T18:03:19.314025Z",
     "start_time": "2021-05-04T18:03:16.473209Z"
    }
   },
   "outputs": [
    {
     "data": {
      "text/plain": [
       "PCA(n_components=2)"
      ]
     },
     "execution_count": 12,
     "metadata": {},
     "output_type": "execute_result"
    }
   ],
   "source": [
    "from sklearn.decomposition import PCA\n",
    "pca = PCA(n_components=2)\n",
    "pca.fit(conc_img.T)"
   ]
  },
  {
   "cell_type": "code",
   "execution_count": 13,
   "metadata": {
    "ExecuteTime": {
     "end_time": "2021-05-04T18:03:19.344946Z",
     "start_time": "2021-05-04T18:03:19.319018Z"
    }
   },
   "outputs": [
    {
     "data": {
      "text/plain": [
       "array([[ 23.62667243,  15.80656643],\n",
       "       [-17.49846575,  22.44605282],\n",
       "       [  8.44378726,  -1.86086085],\n",
       "       [-10.32175845,   7.97375305],\n",
       "       [ 12.3395994 ,   9.04737981],\n",
       "       [ -2.81952168,  -4.69149057],\n",
       "       [-12.71753933,  11.59299623],\n",
       "       [ -8.37809002,  13.70129299],\n",
       "       [  7.29156408,   4.83664677],\n",
       "       [ 12.71421724,  16.60886298],\n",
       "       [  4.16376358,  -3.66490431],\n",
       "       [ 10.61590897,   5.69669452],\n",
       "       [-10.97636792,   2.45531266],\n",
       "       [ 20.12363408,  -6.86229444],\n",
       "       [ -2.29027164,  10.00816174],\n",
       "       [  3.49788843,   5.16349612],\n",
       "       [ 11.74136126,   7.91400557],\n",
       "       [ -4.38803877,  21.03508754],\n",
       "       [ 10.99691423,   3.44174777],\n",
       "       [ 13.47014137,   9.72130813],\n",
       "       [ 10.97678697,  -9.0021683 ],\n",
       "       [ -9.26178011,   1.47253769],\n",
       "       [ 24.0966555 ,   0.88995636],\n",
       "       [-23.41219193,  11.17377918],\n",
       "       [-15.09828535,  19.42102567],\n",
       "       [-27.22310067,   5.59300412],\n",
       "       [ 26.20431189,  -7.89339293],\n",
       "       [  5.59096956,  -2.21701774],\n",
       "       [  8.0607442 ,  10.88072087],\n",
       "       [-19.8720846 ,   5.80781309],\n",
       "       [ -3.61556161,   3.2341806 ],\n",
       "       [-20.07356512,   6.61027264],\n",
       "       [  0.41482388,  20.60126053],\n",
       "       [-30.30490878,   9.94603294],\n",
       "       [-20.02888033,  -3.97464374],\n",
       "       [-14.54892213,  11.50888192],\n",
       "       [  8.15042366,  -8.03402258],\n",
       "       [-27.01747197,   8.89956628],\n",
       "       [-31.44672253,   0.47014995],\n",
       "       [-16.8997431 ,  18.95724682],\n",
       "       [ -7.47319514,  12.67264948],\n",
       "       [  2.54292259,  -0.57202244],\n",
       "       [-38.62194734,   2.85131823],\n",
       "       [-21.34598223,   8.8253116 ],\n",
       "       [ -9.33915065,  -3.9802585 ],\n",
       "       [ -3.80673583,  13.54101021],\n",
       "       [-10.15407864,  24.32571772],\n",
       "       [-19.1779385 ,   9.64035842],\n",
       "       [  7.33896556,   7.76373864],\n",
       "       [-26.63960119,  -6.59369872],\n",
       "       [  0.60371196,   9.86797815],\n",
       "       [ 46.98170522,  15.75078511],\n",
       "       [ 49.44513884,   0.91440641],\n",
       "       [  9.38123347, -11.84776175],\n",
       "       [ -7.34683536,  -7.82816026],\n",
       "       [  8.21489839,  -9.83848136],\n",
       "       [  7.01225083,   3.96919821],\n",
       "       [ -1.27720046,   4.71292872],\n",
       "       [ -0.25385327, -16.87934803],\n",
       "       [  2.30697078,  -2.08128975],\n",
       "       [ -4.89481358,   4.84393938],\n",
       "       [ -1.28092169,   8.12702159],\n",
       "       [ -7.24399444,  23.11053929],\n",
       "       [ 14.8217983 ,  -8.71968781],\n",
       "       [-38.54176282,  -0.4080202 ],\n",
       "       [-12.51672601,  19.75872462],\n",
       "       [ 26.30039843,  -0.71695331],\n",
       "       [ -0.43827007, -23.07563775],\n",
       "       [-19.57905626,  -0.72441887],\n",
       "       [  0.37893148,   7.96184036],\n",
       "       [-17.07477033,  -1.16152882],\n",
       "       [-19.96789489,   1.37993979],\n",
       "       [  0.05920072,  17.26766254],\n",
       "       [-24.43326875,  -8.22720978],\n",
       "       [  7.20969315,   1.81278574],\n",
       "       [  1.30334665,  16.95808795],\n",
       "       [ 14.45406116,  13.02324554],\n",
       "       [ -3.63552283,  -7.36022216],\n",
       "       [-21.11644067,   3.71091517],\n",
       "       [ 16.70123211,  26.76482116],\n",
       "       [ 32.47760634,  -3.15686246],\n",
       "       [  8.60180084, -25.10988744],\n",
       "       [ 34.19858959,  34.69459941],\n",
       "       [ 30.79784021,  11.75764255],\n",
       "       [ 34.79304755, -21.36060519],\n",
       "       [  3.01578764, -15.26667991],\n",
       "       [ 18.71448031, -25.97039833],\n",
       "       [ 13.27741124,  -7.81612965],\n",
       "       [ -4.42556199, -26.78769955],\n",
       "       [ -9.35394998, -10.11665267],\n",
       "       [ -4.56012644,   1.63024839],\n",
       "       [-25.32981136,   5.19101514],\n",
       "       [ -9.0678572 , -28.90388315],\n",
       "       [ 19.35618043, -20.24318066],\n",
       "       [ -6.85601276,  13.70975185],\n",
       "       [  0.4062403 ,  -4.39493526],\n",
       "       [ -4.70414417,  10.04026949],\n",
       "       [ 20.0529625 , -20.97254642],\n",
       "       [ 22.24352487,  12.42064769],\n",
       "       [-19.22808271, -14.48015284],\n",
       "       [ 39.34644993,   4.2020361 ],\n",
       "       [ -5.48500678, -24.52222547],\n",
       "       [-17.93292884, -14.35963064],\n",
       "       [-32.44645052,  -8.50967376],\n",
       "       [ 42.78068245,  29.76029224],\n",
       "       [ -2.31843138,  -0.79116886],\n",
       "       [ 17.11675972, -25.23393331],\n",
       "       [-35.11944162, -14.09300826],\n",
       "       [ -2.08060945,   8.83005481],\n",
       "       [  7.68514379,  -6.04088044],\n",
       "       [ 13.06353729,  -2.09460257],\n",
       "       [ 35.4781795 ,  -1.55503111],\n",
       "       [ 15.56878701, -13.55789086],\n",
       "       [ 41.62696156,  36.21735891],\n",
       "       [  5.89722566, -16.85114971],\n",
       "       [-35.86104075,   1.77916159],\n",
       "       [ 18.2613057 ,  24.23653315],\n",
       "       [-11.77451088, -20.56290113],\n",
       "       [ -9.47587002, -10.85990949],\n",
       "       [ 42.01657134, -12.95397391],\n",
       "       [ -2.50022195,  -3.69643154],\n",
       "       [ 31.0512734 , -24.13281899],\n",
       "       [ -3.48706956, -29.36064399],\n",
       "       [-32.30300492, -18.168056  ],\n",
       "       [-39.66872094, -28.31412563],\n",
       "       [-23.74316587,  16.15560678],\n",
       "       [-27.40895438,  15.26623273],\n",
       "       [-13.86745312,  17.93207067],\n",
       "       [ -2.92626049, -29.34976009],\n",
       "       [  7.74068489,  -2.69651434],\n",
       "       [ 30.38108257, -17.56649262],\n",
       "       [  3.99117167,  -6.73199287],\n",
       "       [ -0.3984257 , -22.15259223],\n",
       "       [-14.38799924, -17.9747681 ],\n",
       "       [-13.98820432,  11.60665065],\n",
       "       [ -3.35363373,  -8.01110873],\n",
       "       [ 11.74314228, -30.28118429],\n",
       "       [ -4.59584714,  -3.03335775],\n",
       "       [ -2.94538418,  14.20685708],\n",
       "       [-19.19852603,  -9.64411181],\n",
       "       [ -0.90214729,   1.9019768 ],\n",
       "       [ 11.65345546,  -0.89093445],\n",
       "       [ 19.10638233, -24.42028339],\n",
       "       [ -8.38714398, -21.85878193],\n",
       "       [ -9.04927054,  15.92264558],\n",
       "       [  0.38010179,  -1.82855665],\n",
       "       [  5.08279318,  22.5703005 ],\n",
       "       [ 21.85759949,  -4.6405314 ],\n",
       "       [  0.5355185 ,  -0.71254097],\n",
       "       [-13.37027816,  17.28773447],\n",
       "       [  1.89925448,   3.7744805 ],\n",
       "       [  0.53161233, -18.01687859],\n",
       "       [  9.57490765,  -4.62298782],\n",
       "       [  1.31215244,  -0.72242273],\n",
       "       [  8.45697701,   5.4056283 ],\n",
       "       [  1.6980528 ,  -5.10343865],\n",
       "       [ -1.80472062, -11.47856607],\n",
       "       [  3.30950689,  -9.94760996],\n",
       "       [-10.11868337,  11.68228274],\n",
       "       [  4.1188126 ,  -0.51421632]])"
      ]
     },
     "execution_count": 13,
     "metadata": {},
     "output_type": "execute_result"
    }
   ],
   "source": [
    "pca.transform(conc_img.T)"
   ]
  },
  {
   "cell_type": "code",
   "execution_count": 14,
   "metadata": {
    "ExecuteTime": {
     "end_time": "2021-05-04T18:03:19.359905Z",
     "start_time": "2021-05-04T18:03:19.349932Z"
    }
   },
   "outputs": [
    {
     "data": {
      "text/plain": [
       "(2, 4096)"
      ]
     },
     "execution_count": 14,
     "metadata": {},
     "output_type": "execute_result"
    }
   ],
   "source": [
    "pca.components_.shape"
   ]
  },
  {
   "cell_type": "code",
   "execution_count": 15,
   "metadata": {
    "ExecuteTime": {
     "end_time": "2021-05-04T18:03:19.406778Z",
     "start_time": "2021-05-04T18:03:19.362897Z"
    }
   },
   "outputs": [
    {
     "data": {
      "text/plain": [
       "array([336.73873606, 202.51991888])"
      ]
     },
     "execution_count": 15,
     "metadata": {},
     "output_type": "execute_result"
    }
   ],
   "source": [
    "pca.explained_variance_"
   ]
  },
  {
   "cell_type": "code",
   "execution_count": 16,
   "metadata": {
    "ExecuteTime": {
     "end_time": "2021-05-04T18:03:19.438693Z",
     "start_time": "2021-05-04T18:03:19.409771Z"
    }
   },
   "outputs": [
    {
     "name": "stdout",
     "output_type": "stream",
     "text": [
      "[0.21217036 0.12760256]\n"
     ]
    }
   ],
   "source": [
    "print(pca.explained_variance_ratio_)"
   ]
  },
  {
   "cell_type": "code",
   "execution_count": 17,
   "metadata": {
    "ExecuteTime": {
     "end_time": "2021-05-04T18:03:19.502522Z",
     "start_time": "2021-05-04T18:03:19.442682Z"
    }
   },
   "outputs": [],
   "source": [
    "pc1 = pca.transform(conc_img.T)[:,0]\n",
    "pc2 = pca.transform(conc_img.T)[:,1]"
   ]
  },
  {
   "cell_type": "markdown",
   "metadata": {
    "id": "no-JSnrxFDOr"
   },
   "source": [
    "# Challenge 3 - Plotting the Data\n",
    "\n",
    "Now that we have reduced our cats and dogs arrays, we can easily plot the data in a way that the human eye can understand. We can look at this plot to see whether there are differences between the cat and dog images. \n",
    "\n",
    "In the cell below, turn the two dimensional projection into a pandas dataframe and name the columns `pc1`, and `pc2` respectively."
   ]
  },
  {
   "cell_type": "code",
   "execution_count": 18,
   "metadata": {
    "ExecuteTime": {
     "end_time": "2021-05-04T18:03:19.564357Z",
     "start_time": "2021-05-04T18:03:19.505515Z"
    },
    "id": "65tZL3XTFDOr"
   },
   "outputs": [
    {
     "data": {
      "text/html": [
       "<div>\n",
       "<style scoped>\n",
       "    .dataframe tbody tr th:only-of-type {\n",
       "        vertical-align: middle;\n",
       "    }\n",
       "\n",
       "    .dataframe tbody tr th {\n",
       "        vertical-align: top;\n",
       "    }\n",
       "\n",
       "    .dataframe thead th {\n",
       "        text-align: right;\n",
       "    }\n",
       "</style>\n",
       "<table border=\"1\" class=\"dataframe\">\n",
       "  <thead>\n",
       "    <tr style=\"text-align: right;\">\n",
       "      <th></th>\n",
       "      <th>pc1</th>\n",
       "      <th>pc2</th>\n",
       "      <th>cat_dog</th>\n",
       "    </tr>\n",
       "  </thead>\n",
       "  <tbody>\n",
       "    <tr>\n",
       "      <th>0</th>\n",
       "      <td>23.626672</td>\n",
       "      <td>15.806566</td>\n",
       "      <td>Dog</td>\n",
       "    </tr>\n",
       "    <tr>\n",
       "      <th>1</th>\n",
       "      <td>-17.498466</td>\n",
       "      <td>22.446053</td>\n",
       "      <td>Dog</td>\n",
       "    </tr>\n",
       "    <tr>\n",
       "      <th>2</th>\n",
       "      <td>8.443787</td>\n",
       "      <td>-1.860861</td>\n",
       "      <td>Dog</td>\n",
       "    </tr>\n",
       "    <tr>\n",
       "      <th>3</th>\n",
       "      <td>-10.321758</td>\n",
       "      <td>7.973753</td>\n",
       "      <td>Dog</td>\n",
       "    </tr>\n",
       "    <tr>\n",
       "      <th>4</th>\n",
       "      <td>12.339599</td>\n",
       "      <td>9.047380</td>\n",
       "      <td>Dog</td>\n",
       "    </tr>\n",
       "    <tr>\n",
       "      <th>...</th>\n",
       "      <td>...</td>\n",
       "      <td>...</td>\n",
       "      <td>...</td>\n",
       "    </tr>\n",
       "    <tr>\n",
       "      <th>155</th>\n",
       "      <td>1.698053</td>\n",
       "      <td>-5.103439</td>\n",
       "      <td>Cat</td>\n",
       "    </tr>\n",
       "    <tr>\n",
       "      <th>156</th>\n",
       "      <td>-1.804721</td>\n",
       "      <td>-11.478566</td>\n",
       "      <td>Cat</td>\n",
       "    </tr>\n",
       "    <tr>\n",
       "      <th>157</th>\n",
       "      <td>3.309507</td>\n",
       "      <td>-9.947610</td>\n",
       "      <td>Cat</td>\n",
       "    </tr>\n",
       "    <tr>\n",
       "      <th>158</th>\n",
       "      <td>-10.118683</td>\n",
       "      <td>11.682283</td>\n",
       "      <td>Cat</td>\n",
       "    </tr>\n",
       "    <tr>\n",
       "      <th>159</th>\n",
       "      <td>4.118813</td>\n",
       "      <td>-0.514216</td>\n",
       "      <td>Cat</td>\n",
       "    </tr>\n",
       "  </tbody>\n",
       "</table>\n",
       "<p>160 rows × 3 columns</p>\n",
       "</div>"
      ],
      "text/plain": [
       "           pc1        pc2 cat_dog\n",
       "0    23.626672  15.806566     Dog\n",
       "1   -17.498466  22.446053     Dog\n",
       "2     8.443787  -1.860861     Dog\n",
       "3   -10.321758   7.973753     Dog\n",
       "4    12.339599   9.047380     Dog\n",
       "..         ...        ...     ...\n",
       "155   1.698053  -5.103439     Cat\n",
       "156  -1.804721 -11.478566     Cat\n",
       "157   3.309507  -9.947610     Cat\n",
       "158 -10.118683  11.682283     Cat\n",
       "159   4.118813  -0.514216     Cat\n",
       "\n",
       "[160 rows x 3 columns]"
      ]
     },
     "execution_count": 18,
     "metadata": {},
     "output_type": "execute_result"
    }
   ],
   "source": [
    "x = pd.DataFrame([pc1, pc2]).T\n",
    "x.columns = ['pc1', 'pc2']\n",
    "x['cat_dog'] = ['Dog' if x < 80 else 'Cat' for x in range(160)]\n",
    "x"
   ]
  },
  {
   "cell_type": "markdown",
   "metadata": {
    "id": "a77mi_VUFDOr"
   },
   "source": [
    "Create a labels list. This list will be of size 160. The first 80 elements in the list will be the word `blue`, and the last 80 elements will be `red`. This will ensure that all dog observations will be colored in blue and all cats will be colored in red. Name this list `colors`."
   ]
  },
  {
   "cell_type": "code",
   "execution_count": 19,
   "metadata": {
    "ExecuteTime": {
     "end_time": "2021-05-04T18:03:19.612228Z",
     "start_time": "2021-05-04T18:03:19.568348Z"
    }
   },
   "outputs": [
    {
     "data": {
      "text/html": [
       "<div>\n",
       "<style scoped>\n",
       "    .dataframe tbody tr th:only-of-type {\n",
       "        vertical-align: middle;\n",
       "    }\n",
       "\n",
       "    .dataframe tbody tr th {\n",
       "        vertical-align: top;\n",
       "    }\n",
       "\n",
       "    .dataframe thead th {\n",
       "        text-align: right;\n",
       "    }\n",
       "</style>\n",
       "<table border=\"1\" class=\"dataframe\">\n",
       "  <thead>\n",
       "    <tr style=\"text-align: right;\">\n",
       "      <th></th>\n",
       "      <th>pc1</th>\n",
       "      <th>pc2</th>\n",
       "      <th>cat_dog</th>\n",
       "      <th>colors</th>\n",
       "    </tr>\n",
       "  </thead>\n",
       "  <tbody>\n",
       "    <tr>\n",
       "      <th>0</th>\n",
       "      <td>23.626672</td>\n",
       "      <td>15.806566</td>\n",
       "      <td>Dog</td>\n",
       "      <td>Blue</td>\n",
       "    </tr>\n",
       "    <tr>\n",
       "      <th>1</th>\n",
       "      <td>-17.498466</td>\n",
       "      <td>22.446053</td>\n",
       "      <td>Dog</td>\n",
       "      <td>Blue</td>\n",
       "    </tr>\n",
       "    <tr>\n",
       "      <th>2</th>\n",
       "      <td>8.443787</td>\n",
       "      <td>-1.860861</td>\n",
       "      <td>Dog</td>\n",
       "      <td>Blue</td>\n",
       "    </tr>\n",
       "    <tr>\n",
       "      <th>3</th>\n",
       "      <td>-10.321758</td>\n",
       "      <td>7.973753</td>\n",
       "      <td>Dog</td>\n",
       "      <td>Blue</td>\n",
       "    </tr>\n",
       "    <tr>\n",
       "      <th>4</th>\n",
       "      <td>12.339599</td>\n",
       "      <td>9.047380</td>\n",
       "      <td>Dog</td>\n",
       "      <td>Blue</td>\n",
       "    </tr>\n",
       "    <tr>\n",
       "      <th>...</th>\n",
       "      <td>...</td>\n",
       "      <td>...</td>\n",
       "      <td>...</td>\n",
       "      <td>...</td>\n",
       "    </tr>\n",
       "    <tr>\n",
       "      <th>155</th>\n",
       "      <td>1.698053</td>\n",
       "      <td>-5.103439</td>\n",
       "      <td>Cat</td>\n",
       "      <td>Red</td>\n",
       "    </tr>\n",
       "    <tr>\n",
       "      <th>156</th>\n",
       "      <td>-1.804721</td>\n",
       "      <td>-11.478566</td>\n",
       "      <td>Cat</td>\n",
       "      <td>Red</td>\n",
       "    </tr>\n",
       "    <tr>\n",
       "      <th>157</th>\n",
       "      <td>3.309507</td>\n",
       "      <td>-9.947610</td>\n",
       "      <td>Cat</td>\n",
       "      <td>Red</td>\n",
       "    </tr>\n",
       "    <tr>\n",
       "      <th>158</th>\n",
       "      <td>-10.118683</td>\n",
       "      <td>11.682283</td>\n",
       "      <td>Cat</td>\n",
       "      <td>Red</td>\n",
       "    </tr>\n",
       "    <tr>\n",
       "      <th>159</th>\n",
       "      <td>4.118813</td>\n",
       "      <td>-0.514216</td>\n",
       "      <td>Cat</td>\n",
       "      <td>Red</td>\n",
       "    </tr>\n",
       "  </tbody>\n",
       "</table>\n",
       "<p>160 rows × 4 columns</p>\n",
       "</div>"
      ],
      "text/plain": [
       "           pc1        pc2 cat_dog colors\n",
       "0    23.626672  15.806566     Dog   Blue\n",
       "1   -17.498466  22.446053     Dog   Blue\n",
       "2     8.443787  -1.860861     Dog   Blue\n",
       "3   -10.321758   7.973753     Dog   Blue\n",
       "4    12.339599   9.047380     Dog   Blue\n",
       "..         ...        ...     ...    ...\n",
       "155   1.698053  -5.103439     Cat    Red\n",
       "156  -1.804721 -11.478566     Cat    Red\n",
       "157   3.309507  -9.947610     Cat    Red\n",
       "158 -10.118683  11.682283     Cat    Red\n",
       "159   4.118813  -0.514216     Cat    Red\n",
       "\n",
       "[160 rows x 4 columns]"
      ]
     },
     "execution_count": 19,
     "metadata": {},
     "output_type": "execute_result"
    }
   ],
   "source": [
    "x['colors'] = x['cat_dog'].apply(lambda x: 'Blue' if x == 'Dog' else 'Red')\n",
    "x"
   ]
  },
  {
   "cell_type": "markdown",
   "metadata": {
    "id": "3IrkGs-gFDOr"
   },
   "source": [
    "Create a scatter plot of `pc1` and `pc2` below. Use the `colors` list above to color the observations by setting `c=colors`."
   ]
  },
  {
   "cell_type": "code",
   "execution_count": 20,
   "metadata": {
    "ExecuteTime": {
     "end_time": "2021-05-04T18:03:19.972813Z",
     "start_time": "2021-05-04T18:03:19.615221Z"
    },
    "id": "-AbrrG-TFDOr"
   },
   "outputs": [
    {
     "data": {
      "text/plain": [
       "<matplotlib.collections.PathCollection at 0x288ede58f40>"
      ]
     },
     "execution_count": 20,
     "metadata": {},
     "output_type": "execute_result"
    },
    {
     "data": {
      "image/png": "[encoded data removed]",
      "text/plain": [
       "<Figure size 432x288 with 1 Axes>"
      ]
     },
     "metadata": {
      "needs_background": "light"
     },
     "output_type": "display_data"
    }
   ],
   "source": [
    "plt.scatter('pc1', 'pc2', c = 'colors', data = x)"
   ]
  },
  {
   "cell_type": "code",
   "execution_count": 21,
   "metadata": {
    "ExecuteTime": {
     "end_time": "2021-05-04T18:03:20.799571Z",
     "start_time": "2021-05-04T18:03:19.976771Z"
    }
   },
   "outputs": [
    {
     "name": "stderr",
     "output_type": "stream",
     "text": [
      "C:\\Users\\eduar\\anaconda3\\lib\\site-packages\\seaborn\\_decorators.py:36: FutureWarning: Pass the following variables as keyword args: x, y. From version 0.12, the only valid positional argument will be `data`, and passing other arguments without an explicit keyword will result in an error or misinterpretation.\n",
      "  warnings.warn(\n"
     ]
    },
    {
     "data": {
      "text/plain": [
       "<AxesSubplot:xlabel='pc1', ylabel='pc2'>"
      ]
     },
     "execution_count": 21,
     "metadata": {},
     "output_type": "execute_result"
    },
    {
     "data": {
      "image/png": "[encoded data removed]",
      "text/plain": [
       "<Figure size 432x288 with 1 Axes>"
      ]
     },
     "metadata": {
      "needs_background": "light"
     },
     "output_type": "display_data"
    }
   ],
   "source": [
    "import seaborn as sns\n",
    "sns.scatterplot('pc1', 'pc2', hue = 'cat_dog', data = x)"
   ]
  },
  {
   "cell_type": "markdown",
   "metadata": {
    "id": "I-meGOYBFDOs"
   },
   "source": [
    "Do you see a clear separation between cats and dogs? Write your answer below."
   ]
  },
  {
   "cell_type": "code",
   "execution_count": 22,
   "metadata": {
    "ExecuteTime": {
     "end_time": "2021-05-04T18:03:20.830948Z",
     "start_time": "2021-05-04T18:03:20.812469Z"
    },
    "id": "nBPHDwtIFDOs"
   },
   "outputs": [
    {
     "data": {
      "text/plain": [
       "'\\nNot too much , but a few cats in the low area.\\n'"
      ]
     },
     "execution_count": 22,
     "metadata": {},
     "output_type": "execute_result"
    }
   ],
   "source": [
    "'''\n",
    "Not too much , but a few cats in the low area.\n",
    "'''"
   ]
  }
 ],
 "metadata": {
  "colab": {
   "collapsed_sections": [],
   "name": "pca-new.ipynb",
   "provenance": []
  },
  "kernelspec": {
   "display_name": "Python 3",
   "language": "python",
   "name": "python3"
  },
  "language_info": {
   "codemirror_mode": {
    "name": "ipython",
    "version": 3
   },
   "file_extension": ".py",
   "mimetype": "text/x-python",
   "name": "python",
   "nbconvert_exporter": "python",
   "pygments_lexer": "ipython3",
   "version": "3.8.5"
  },
  "toc": {
   "base_numbering": 1,
   "nav_menu": {},
   "number_sections": true,
   "sideBar": true,
   "skip_h1_title": false,
   "title_cell": "Table of Contents",
   "title_sidebar": "Contents",
   "toc_cell": false,
   "toc_position": {},
   "toc_section_display": true,
   "toc_window_display": false
  },
  "varInspector": {
   "cols": {
    "lenName": 16,
    "lenType": 16,
    "lenVar": 40
   },
   "kernels_config": {
    "python": {
     "delete_cmd_postfix": "",
     "delete_cmd_prefix": "del ",
     "library": "var_list.py",
     "varRefreshCmd": "print(var_dic_list())"
    },
    "r": {
     "delete_cmd_postfix": ") ",
     "delete_cmd_prefix": "rm(",
     "library": "var_list.r",
     "varRefreshCmd": "cat(var_dic_list()) "
    }
   },
   "types_to_exclude": [
    "module",
    "function",
    "builtin_function_or_method",
    "instance",
    "_Feature"
   ],
   "window_display": false
  }
 },
 "nbformat": 4,
 "nbformat_minor": 1
}
