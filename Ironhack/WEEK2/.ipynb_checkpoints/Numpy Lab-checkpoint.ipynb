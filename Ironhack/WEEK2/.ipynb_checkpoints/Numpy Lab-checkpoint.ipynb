{
 "cells": [
  {
   "cell_type": "markdown",
   "metadata": {
    "colab_type": "text",
    "id": "mN9kpE7hMEP-"
   },
   "source": [
    "![Ironhack logo](https://i.imgur.com/1QgrNNw.png)\n",
    "\n",
    "# Lab | Numpy\n",
    "\n",
    "## Introduction\n",
    "\n",
    "An important ability of a data scientist/data engineer is to know where and how to find information that helps you to accomplish your work. In the exercise, you will both practice the Numpy features we discussed in the lesson and learn new features by looking up documentations and references. You will work on your own but remember the teaching staff is at your service whenever you encounter problems.\n",
    "\n",
    "## Getting Started\n",
    "There are a bunch of comments which instruct what you are supposed to do step by step. Follow the order of the instructions from top to bottom. Read each instruction carefully and provide your answer beneath it. You should also test your answers to make sure your responses are correct. If one of your responses is incorrect, you may not be able to proceed because later responses may depend upon previous responses.\n",
    "\n",
    "\n",
    "## Resources\n",
    "\n",
    "Some of the questions in the assignment are not covered in our lesson. You will learn how to efficiently look up the information on your own. Below are some resources you can find the information you need.\n",
    "\n",
    "[Numpy User Guide](https://docs.scipy.org/doc/numpy/user/index.html)\n",
    "\n",
    "[Numpy Reference](https://docs.scipy.org/doc/numpy/reference/)\n",
    "\n",
    "[Google Search](https://www.google.com/search?q=how+to+use+numpy)\n",
    "\n"
   ]
  },
  {
   "cell_type": "markdown",
   "metadata": {
    "colab_type": "text",
    "id": "-we_8UVrwCc1"
   },
   "source": [
    "# Intrduction to NumPy\n",
    "\n",
    "\n",
    "#### 1. Import NumPy under the name np."
   ]
  },
  {
   "cell_type": "code",
   "execution_count": 3,
   "metadata": {
    "colab": {},
    "colab_type": "code",
    "id": "3fRJ8mtHwCc5"
   },
   "outputs": [],
   "source": [
    "import numpy as np"
   ]
  },
  {
   "cell_type": "markdown",
   "metadata": {
    "colab_type": "text",
    "id": "8Xtbl_EvwCc9"
   },
   "source": [
    "#### 2. Print your NumPy version."
   ]
  },
  {
   "cell_type": "code",
   "execution_count": 4,
   "metadata": {
    "colab": {},
    "colab_type": "code",
    "id": "BlegxuJVwCc-"
   },
   "outputs": [
    {
     "data": {
      "text/plain": [
       "'1.19.2'"
      ]
     },
     "execution_count": 4,
     "metadata": {},
     "output_type": "execute_result"
    }
   ],
   "source": [
    "np.__version__"
   ]
  },
  {
   "cell_type": "markdown",
   "metadata": {
    "colab_type": "text",
    "id": "FpKgyatowCdC"
   },
   "source": [
    "#### 3. Generate a 3x2x5 3-dimensional array with random values. Assign the array to variable *a*.\n",
    "**Challenge**: there are at least three easy ways that use numpy to generate random arrays. How many ways can you find?\n",
    "\n",
    "**Example of output**:\n",
    "````python\n",
    "[[[0.29932768, 0.85812686, 0.75266145, 0.09278988, 0.78358352],\n",
    "  [0.13437453, 0.65695946, 0.82047594, 0.09764179, 0.52230096]],\n",
    " \n",
    " [[0.54248247, 0.06431281, 0.65902257, 0.92736679, 0.3302839 ],\n",
    "  [0.86867236, 0.33960592, 0.62295821, 0.74563567, 0.24351584]],\n",
    " \n",
    " [[0.21276812, 0.06917533, 0.35106591, 0.82273425, 0.7910178 ],\n",
    "  [0.37768961, 0.56107736, 0.99965953, 0.97615549, 0.2445537 ]]]\n",
    "````"
   ]
  },
  {
   "cell_type": "code",
   "execution_count": 5,
   "metadata": {
    "colab": {},
    "colab_type": "code",
    "id": "609Z4Zn3wCdD"
   },
   "outputs": [
    {
     "name": "stdout",
     "output_type": "stream",
     "text": [
      "[[[0.37882256 0.83211258 0.3262477  0.22752006 0.03354093]\n",
      "  [0.02280331 0.05344291 0.38542655 0.31411973 0.3766961 ]]\n",
      "\n",
      " [[0.12849243 0.08439835 0.51137002 0.19895825 0.01728095]\n",
      "  [0.07779238 0.65954814 0.62853313 0.93633416 0.76633362]]\n",
      "\n",
      " [[0.41408998 0.32494482 0.82249465 0.76824753 0.81888574]\n",
      "  [0.1205786  0.06710745 0.3885754  0.19625923 0.46849209]]]\n"
     ]
    }
   ],
   "source": [
    "a = np.random.random((3, 2, 5))\n",
    "print(a)"
   ]
  },
  {
   "cell_type": "code",
   "execution_count": 6,
   "metadata": {
    "colab": {},
    "colab_type": "code",
    "id": "q6dKJNO4wCdH"
   },
   "outputs": [
    {
     "name": "stdout",
     "output_type": "stream",
     "text": [
      "[[[-1.0872648  -0.11435261 -0.49698213  0.61299993  0.06575829]\n",
      "  [-0.38157843 -0.98372288  0.9808137  -0.18794044  1.07607017]]\n",
      "\n",
      " [[ 0.12386727  2.89203962 -0.99999377  0.02909936 -1.50257675]\n",
      "  [ 1.40007348  1.00237633  1.10365979  1.71210928  0.84577839]]\n",
      "\n",
      " [[-1.56176618  1.90159183  1.01686144 -0.66218643  0.87776283]\n",
      "  [-2.33834492  1.82909217  1.76036023  0.06043963 -1.30635546]]]\n"
     ]
    }
   ],
   "source": [
    "a = np.random.randn(3, 2, 5)\n",
    "print(a)"
   ]
  },
  {
   "cell_type": "code",
   "execution_count": 7,
   "metadata": {
    "colab": {},
    "colab_type": "code",
    "id": "xILn36GWwCdK"
   },
   "outputs": [
    {
     "name": "stdout",
     "output_type": "stream",
     "text": [
      "[[[4 1 2 0 2]\n",
      "  [0 3 1 3 4]]\n",
      "\n",
      " [[2 1 4 1 3]\n",
      "  [2 1 2 0 4]]\n",
      "\n",
      " [[0 3 2 4 1]\n",
      "  [4 4 0 3 1]]]\n"
     ]
    }
   ],
   "source": [
    "a = np.random.randint(5,size=[3,2,5])\n",
    "print(a)"
   ]
  },
  {
   "cell_type": "code",
   "execution_count": 8,
   "metadata": {},
   "outputs": [
    {
     "name": "stdout",
     "output_type": "stream",
     "text": [
      "[[[0.88040973 0.84795381 0.80855108 0.40411768 0.6934249 ]\n",
      "  [0.5090352  0.89943105 0.60529135 0.97090797 0.55842064]]\n",
      "\n",
      " [[0.95843681 0.39732326 0.80524588 0.39619348 0.61697974]\n",
      "  [0.59053314 0.1845323  0.70670214 0.95661585 0.46767846]]\n",
      "\n",
      " [[0.38813466 0.8758131  0.82596146 0.68382263 0.41485279]\n",
      "  [0.02647475 0.07646197 0.41229742 0.81537234 0.05373194]]]\n"
     ]
    }
   ],
   "source": [
    "a = np.random.ranf((3, 2, 5))\n",
    "print(a)"
   ]
  },
  {
   "cell_type": "code",
   "execution_count": 9,
   "metadata": {},
   "outputs": [
    {
     "name": "stdout",
     "output_type": "stream",
     "text": [
      "[[[0.9803518  0.12972612 0.87540933 0.47966699 0.8115376 ]\n",
      "  [0.99512095 0.88114921 0.37978084 0.83563009 0.47025945]]\n",
      "\n",
      " [[0.73544405 0.73939389 0.06924103 0.76733645 0.88559295]\n",
      "  [0.47770877 0.56400073 0.5443756  0.57112305 0.56590893]]\n",
      "\n",
      " [[0.95530601 0.06149559 0.581325   0.9362009  0.4360219 ]\n",
      "  [0.78147348 0.70171101 0.92625684 0.45875058 0.54976126]]]\n"
     ]
    }
   ],
   "source": [
    "a = np.random.random_sample((3, 2, 5))\n",
    "print(a)"
   ]
  },
  {
   "cell_type": "markdown",
   "metadata": {
    "colab_type": "text",
    "id": "aMHxBSCDwCdP"
   },
   "source": [
    "#### 4. Print *a*.\n"
   ]
  },
  {
   "cell_type": "code",
   "execution_count": 10,
   "metadata": {
    "colab": {},
    "colab_type": "code",
    "id": "N_NYL3pHwCdQ"
   },
   "outputs": [
    {
     "name": "stdout",
     "output_type": "stream",
     "text": [
      "[[[0.9803518  0.12972612 0.87540933 0.47966699 0.8115376 ]\n",
      "  [0.99512095 0.88114921 0.37978084 0.83563009 0.47025945]]\n",
      "\n",
      " [[0.73544405 0.73939389 0.06924103 0.76733645 0.88559295]\n",
      "  [0.47770877 0.56400073 0.5443756  0.57112305 0.56590893]]\n",
      "\n",
      " [[0.95530601 0.06149559 0.581325   0.9362009  0.4360219 ]\n",
      "  [0.78147348 0.70171101 0.92625684 0.45875058 0.54976126]]]\n"
     ]
    }
   ],
   "source": [
    "print(a)"
   ]
  },
  {
   "cell_type": "markdown",
   "metadata": {
    "colab_type": "text",
    "id": "kws-mAPSwCdU"
   },
   "source": [
    "#### 5. Create a 5x2x3 3-dimensional array with all values equaling 1. Assign the array to variable *b*."
   ]
  },
  {
   "cell_type": "markdown",
   "metadata": {
    "colab_type": "text",
    "id": "SMAUJKLwJS-8"
   },
   "source": [
    "Expected output:\n",
    "\n",
    "````python\n",
    "      [[[1, 1, 1],\n",
    "        [1, 1, 1]],\n",
    "\n",
    "       [[1, 1, 1],\n",
    "        [1, 1, 1]],\n",
    "\n",
    "       [[1, 1, 1],\n",
    "        [1, 1, 1]],\n",
    "\n",
    "       [[1, 1, 1],\n",
    "        [1, 1, 1]],\n",
    "\n",
    "       [[1, 1, 1],\n",
    "        [1, 1, 1]]]\n",
    "````"
   ]
  },
  {
   "cell_type": "code",
   "execution_count": 11,
   "metadata": {
    "colab": {},
    "colab_type": "code",
    "id": "anCmbtrtwCdW"
   },
   "outputs": [
    {
     "name": "stdout",
     "output_type": "stream",
     "text": [
      "[[[1 1 1]\n",
      "  [1 1 1]]\n",
      "\n",
      " [[1 1 1]\n",
      "  [1 1 1]]\n",
      "\n",
      " [[1 1 1]\n",
      "  [1 1 1]]\n",
      "\n",
      " [[1 1 1]\n",
      "  [1 1 1]]\n",
      "\n",
      " [[1 1 1]\n",
      "  [1 1 1]]]\n"
     ]
    }
   ],
   "source": [
    "b = np.full(30, 1, np.int)\n",
    "b = b.reshape(5, 2, 3)\n",
    "print(b)"
   ]
  },
  {
   "cell_type": "code",
   "execution_count": 12,
   "metadata": {},
   "outputs": [
    {
     "name": "stdout",
     "output_type": "stream",
     "text": [
      "[[[1. 1. 1.]\n",
      "  [1. 1. 1.]]\n",
      "\n",
      " [[1. 1. 1.]\n",
      "  [1. 1. 1.]]\n",
      "\n",
      " [[1. 1. 1.]\n",
      "  [1. 1. 1.]]\n",
      "\n",
      " [[1. 1. 1.]\n",
      "  [1. 1. 1.]]\n",
      "\n",
      " [[1. 1. 1.]\n",
      "  [1. 1. 1.]]]\n"
     ]
    }
   ],
   "source": [
    "b = np.ones((5, 2, 3))\n",
    "print(b)"
   ]
  },
  {
   "cell_type": "markdown",
   "metadata": {
    "colab_type": "text",
    "id": "FsYdwPxPwCdZ"
   },
   "source": [
    "#### 6. Print *b*.\n"
   ]
  },
  {
   "cell_type": "code",
   "execution_count": 13,
   "metadata": {
    "colab": {},
    "colab_type": "code",
    "id": "Y3rcPurpwCda"
   },
   "outputs": [
    {
     "name": "stdout",
     "output_type": "stream",
     "text": [
      "[[[1. 1. 1.]\n",
      "  [1. 1. 1.]]\n",
      "\n",
      " [[1. 1. 1.]\n",
      "  [1. 1. 1.]]\n",
      "\n",
      " [[1. 1. 1.]\n",
      "  [1. 1. 1.]]\n",
      "\n",
      " [[1. 1. 1.]\n",
      "  [1. 1. 1.]]\n",
      "\n",
      " [[1. 1. 1.]\n",
      "  [1. 1. 1.]]]\n"
     ]
    }
   ],
   "source": [
    "print(b)"
   ]
  },
  {
   "cell_type": "markdown",
   "metadata": {
    "colab_type": "text",
    "id": "hGblsnk5wCde"
   },
   "source": [
    "#### 7. Do *a* and *b* have the same size? How do you prove that in Python code?"
   ]
  },
  {
   "cell_type": "code",
   "execution_count": 14,
   "metadata": {
    "colab": {},
    "colab_type": "code",
    "id": "YmKeIpGWwCdf"
   },
   "outputs": [
    {
     "name": "stdout",
     "output_type": "stream",
     "text": [
      "True\n"
     ]
    }
   ],
   "source": [
    "a = np.random.random((3, 2, 5))\n",
    "b = np.ones((5, 2, 3))\n",
    "\n",
    "value1 = np.size(a)\n",
    "value2 = np.size(b)\n",
    "if value1 == value2:\n",
    "     print(True)"
   ]
  },
  {
   "cell_type": "code",
   "execution_count": 15,
   "metadata": {},
   "outputs": [
    {
     "data": {
      "text/plain": [
       "True"
      ]
     },
     "execution_count": 15,
     "metadata": {},
     "output_type": "execute_result"
    }
   ],
   "source": [
    "value1 == value2"
   ]
  },
  {
   "cell_type": "markdown",
   "metadata": {
    "colab_type": "text",
    "id": "o9UzXk9IwCdi"
   },
   "source": [
    "#### 8. Are you able to add *a* and *b*? Why or why not?\n"
   ]
  },
  {
   "cell_type": "code",
   "execution_count": 16,
   "metadata": {
    "colab": {},
    "colab_type": "code",
    "id": "drdAyKPywCdj"
   },
   "outputs": [
    {
     "ename": "ValueError",
     "evalue": "operands could not be broadcast together with shapes (3,2,5) (5,2,3) ",
     "output_type": "error",
     "traceback": [
      "\u001b[1;31m---------------------------------------------------------------------------\u001b[0m",
      "\u001b[1;31mValueError\u001b[0m                                Traceback (most recent call last)",
      "\u001b[1;32m<ipython-input-16-fe2a04d0af60>\u001b[0m in \u001b[0;36m<module>\u001b[1;34m\u001b[0m\n\u001b[0;32m      2\u001b[0m \u001b[0mb\u001b[0m \u001b[1;33m=\u001b[0m \u001b[0mnp\u001b[0m\u001b[1;33m.\u001b[0m\u001b[0mones\u001b[0m\u001b[1;33m(\u001b[0m\u001b[1;33m(\u001b[0m\u001b[1;36m5\u001b[0m\u001b[1;33m,\u001b[0m \u001b[1;36m2\u001b[0m\u001b[1;33m,\u001b[0m \u001b[1;36m3\u001b[0m\u001b[1;33m)\u001b[0m\u001b[1;33m)\u001b[0m\u001b[1;33m\u001b[0m\u001b[1;33m\u001b[0m\u001b[0m\n\u001b[0;32m      3\u001b[0m \u001b[1;33m\u001b[0m\u001b[0m\n\u001b[1;32m----> 4\u001b[1;33m \u001b[0ma\u001b[0m \u001b[1;33m+\u001b[0m \u001b[0mb\u001b[0m\u001b[1;33m\u001b[0m\u001b[1;33m\u001b[0m\u001b[0m\n\u001b[0m",
      "\u001b[1;31mValueError\u001b[0m: operands could not be broadcast together with shapes (3,2,5) (5,2,3) "
     ]
    }
   ],
   "source": [
    "a = np.random.random((3, 2, 5))\n",
    "b = np.ones((5, 2, 3))\n",
    "\n",
    "a + b"
   ]
  },
  {
   "cell_type": "code",
   "execution_count": null,
   "metadata": {},
   "outputs": [],
   "source": [
    "a = np.random.random((3, 2, 5))\n",
    "b = np.ones((5, 2, 3))\n",
    "np.add(a, b)"
   ]
  },
  {
   "cell_type": "markdown",
   "metadata": {
    "colab_type": "text",
    "id": "DTsSOpvYwCdm"
   },
   "source": [
    "#### 9. Reshape *b* so that it has the same structure of *a* (i.e. become a 3x2x5 array). Assign the reshaped array to variable *c*.\n",
    "\n",
    "Expected output:\n",
    "\n",
    "````python\n",
    "      [[[1, 1, 1, 1, 1],\n",
    "        [1, 1, 1, 1, 1]],\n",
    "\n",
    "       [[1, 1, 1, 1, 1],\n",
    "        [1, 1, 1, 1, 1]],\n",
    "\n",
    "       [[1, 1, 1, 1, 1],\n",
    "        [1, 1, 1, 1, 1]]]\n",
    "````"
   ]
  },
  {
   "cell_type": "code",
   "execution_count": 17,
   "metadata": {
    "colab": {},
    "colab_type": "code",
    "id": "DjLlRJUtwCdn"
   },
   "outputs": [
    {
     "name": "stdout",
     "output_type": "stream",
     "text": [
      "[[[1. 1. 1. 1. 1.]\n",
      "  [1. 1. 1. 1. 1.]]\n",
      "\n",
      " [[1. 1. 1. 1. 1.]\n",
      "  [1. 1. 1. 1. 1.]]\n",
      "\n",
      " [[1. 1. 1. 1. 1.]\n",
      "  [1. 1. 1. 1. 1.]]]\n"
     ]
    }
   ],
   "source": [
    "b = np.ones((5, 2, 3))\n",
    "c = b.reshape(3, 2, 5)\n",
    "print(c)"
   ]
  },
  {
   "cell_type": "markdown",
   "metadata": {
    "colab_type": "text",
    "id": "fvHocQ9EwCdq"
   },
   "source": [
    "#### 10. Try to add *a* and *c*. Now it should work. Assign the sum to variable *d*. But why does it work now?"
   ]
  },
  {
   "cell_type": "code",
   "execution_count": 18,
   "metadata": {
    "colab": {},
    "colab_type": "code",
    "id": "Ohf5yh5ZwCdr"
   },
   "outputs": [
    {
     "name": "stdout",
     "output_type": "stream",
     "text": [
      "[[[1.00422158 1.44021277 1.08287269 1.97661259 1.57496878]\n",
      "  [1.99207714 1.07368704 1.94573326 1.95188969 1.47487828]]\n",
      "\n",
      " [[1.5012024  1.31284817 1.50421096 1.95119769 1.46673215]\n",
      "  [1.87766773 1.96386609 1.70678565 1.05218337 1.95948507]]\n",
      "\n",
      " [[1.28982271 1.40045797 1.41117119 1.90366446 1.09775773]\n",
      "  [1.61485394 1.9399552  1.25007808 1.24650698 1.0188853 ]]]\n"
     ]
    }
   ],
   "source": [
    "d = a + c\n",
    "print(d)\n",
    "# Its working because they have the same format/dimensions."
   ]
  },
  {
   "cell_type": "code",
   "execution_count": 19,
   "metadata": {},
   "outputs": [
    {
     "name": "stdout",
     "output_type": "stream",
     "text": [
      "[[[1.00422158 1.44021277 1.08287269 1.97661259 1.57496878]\n",
      "  [1.99207714 1.07368704 1.94573326 1.95188969 1.47487828]]\n",
      "\n",
      " [[1.5012024  1.31284817 1.50421096 1.95119769 1.46673215]\n",
      "  [1.87766773 1.96386609 1.70678565 1.05218337 1.95948507]]\n",
      "\n",
      " [[1.28982271 1.40045797 1.41117119 1.90366446 1.09775773]\n",
      "  [1.61485394 1.9399552  1.25007808 1.24650698 1.0188853 ]]]\n"
     ]
    }
   ],
   "source": [
    "d = np.add(a, c)\n",
    "print(d)"
   ]
  },
  {
   "cell_type": "markdown",
   "metadata": {
    "colab_type": "text",
    "id": "DuQBMzQBwCdw"
   },
   "source": [
    "#### 11. Print *a* and *d*. Notice the difference and relation of the two array in terms of the values? Explain."
   ]
  },
  {
   "cell_type": "code",
   "execution_count": 20,
   "metadata": {
    "colab": {},
    "colab_type": "code",
    "id": "gEuh7iv1wCdx"
   },
   "outputs": [
    {
     "name": "stdout",
     "output_type": "stream",
     "text": [
      "[[[0.00422158 0.44021277 0.08287269 0.97661259 0.57496878]\n",
      "  [0.99207714 0.07368704 0.94573326 0.95188969 0.47487828]]\n",
      "\n",
      " [[0.5012024  0.31284817 0.50421096 0.95119769 0.46673215]\n",
      "  [0.87766773 0.96386609 0.70678565 0.05218337 0.95948507]]\n",
      "\n",
      " [[0.28982271 0.40045797 0.41117119 0.90366446 0.09775773]\n",
      "  [0.61485394 0.9399552  0.25007808 0.24650698 0.0188853 ]]]\n",
      "-----------------------------------------------\n",
      "[[[1.00422158 1.44021277 1.08287269 1.97661259 1.57496878]\n",
      "  [1.99207714 1.07368704 1.94573326 1.95188969 1.47487828]]\n",
      "\n",
      " [[1.5012024  1.31284817 1.50421096 1.95119769 1.46673215]\n",
      "  [1.87766773 1.96386609 1.70678565 1.05218337 1.95948507]]\n",
      "\n",
      " [[1.28982271 1.40045797 1.41117119 1.90366446 1.09775773]\n",
      "  [1.61485394 1.9399552  1.25007808 1.24650698 1.0188853 ]]]\n"
     ]
    }
   ],
   "source": [
    "print(a)\n",
    "print(\"-----------------------------------------------\")\n",
    "print(d)\n",
    "# Yes. The array \"d\" is like the \"a\" subtracting 1 from all elements."
   ]
  },
  {
   "cell_type": "markdown",
   "metadata": {
    "colab_type": "text",
    "id": "Ka1popJ3wCd0"
   },
   "source": [
    "#### 12. Multiply *a* and *c*. Assign the result to *e*."
   ]
  },
  {
   "cell_type": "code",
   "execution_count": 21,
   "metadata": {
    "colab": {},
    "colab_type": "code",
    "id": "hLeCMiSEwCd1"
   },
   "outputs": [
    {
     "name": "stdout",
     "output_type": "stream",
     "text": [
      "[[[0.00422158 0.44021277 0.08287269 0.97661259 0.57496878]\n",
      "  [0.99207714 0.07368704 0.94573326 0.95188969 0.47487828]]\n",
      "\n",
      " [[0.5012024  0.31284817 0.50421096 0.95119769 0.46673215]\n",
      "  [0.87766773 0.96386609 0.70678565 0.05218337 0.95948507]]\n",
      "\n",
      " [[0.28982271 0.40045797 0.41117119 0.90366446 0.09775773]\n",
      "  [0.61485394 0.9399552  0.25007808 0.24650698 0.0188853 ]]]\n"
     ]
    }
   ],
   "source": [
    "e = a * c\n",
    "print(e)"
   ]
  },
  {
   "cell_type": "code",
   "execution_count": 22,
   "metadata": {},
   "outputs": [
    {
     "name": "stdout",
     "output_type": "stream",
     "text": [
      "[[[0.00422158 0.44021277 0.08287269 0.97661259 0.57496878]\n",
      "  [0.99207714 0.07368704 0.94573326 0.95188969 0.47487828]]\n",
      "\n",
      " [[0.5012024  0.31284817 0.50421096 0.95119769 0.46673215]\n",
      "  [0.87766773 0.96386609 0.70678565 0.05218337 0.95948507]]\n",
      "\n",
      " [[0.28982271 0.40045797 0.41117119 0.90366446 0.09775773]\n",
      "  [0.61485394 0.9399552  0.25007808 0.24650698 0.0188853 ]]]\n"
     ]
    }
   ],
   "source": [
    "e = np.multiply(a, c)\n",
    "print(e)"
   ]
  },
  {
   "cell_type": "markdown",
   "metadata": {
    "colab_type": "text",
    "id": "1QCqP6lMwCd5"
   },
   "source": [
    "#### 13. Does *e* equal to *a*? Why or why not?\n"
   ]
  },
  {
   "cell_type": "code",
   "execution_count": 23,
   "metadata": {
    "colab": {},
    "colab_type": "code",
    "id": "oxoat0cbwCd6"
   },
   "outputs": [
    {
     "name": "stdout",
     "output_type": "stream",
     "text": [
      "[[[0.00422158 0.44021277 0.08287269 0.97661259 0.57496878]\n",
      "  [0.99207714 0.07368704 0.94573326 0.95188969 0.47487828]]\n",
      "\n",
      " [[0.5012024  0.31284817 0.50421096 0.95119769 0.46673215]\n",
      "  [0.87766773 0.96386609 0.70678565 0.05218337 0.95948507]]\n",
      "\n",
      " [[0.28982271 0.40045797 0.41117119 0.90366446 0.09775773]\n",
      "  [0.61485394 0.9399552  0.25007808 0.24650698 0.0188853 ]]]\n",
      "--------------------\n",
      "[[[0.00422158 0.44021277 0.08287269 0.97661259 0.57496878]\n",
      "  [0.99207714 0.07368704 0.94573326 0.95188969 0.47487828]]\n",
      "\n",
      " [[0.5012024  0.31284817 0.50421096 0.95119769 0.46673215]\n",
      "  [0.87766773 0.96386609 0.70678565 0.05218337 0.95948507]]\n",
      "\n",
      " [[0.28982271 0.40045797 0.41117119 0.90366446 0.09775773]\n",
      "  [0.61485394 0.9399552  0.25007808 0.24650698 0.0188853 ]]]\n"
     ]
    }
   ],
   "source": [
    "print(a)\n",
    "print(\"--------------------\")\n",
    "print(e)\n",
    "# Yes. They are equal because we just multiplied \"a\" per 1 alternatively."
   ]
  },
  {
   "cell_type": "markdown",
   "metadata": {
    "colab_type": "text",
    "id": "b7ceZMcswCd9"
   },
   "source": [
    "#### 14. Identify the max, min, and mean values in *d*. Assign those values to variables *d_max*, *d_min* and *d_mean*."
   ]
  },
  {
   "cell_type": "code",
   "execution_count": 24,
   "metadata": {
    "colab": {},
    "colab_type": "code",
    "id": "ljd7J4ucwCd-"
   },
   "outputs": [
    {
     "name": "stdout",
     "output_type": "stream",
     "text": [
      "1.992077140692313\n",
      "1.004221578097504\n",
      "1.5328828890124129\n"
     ]
    }
   ],
   "source": [
    "d_max = np.max(d)\n",
    "d_min = np.min(d)\n",
    "d_mean = np.mean(d)\n",
    "print(d_max)\n",
    "print(d_min)\n",
    "print(d_mean)"
   ]
  },
  {
   "cell_type": "markdown",
   "metadata": {
    "colab_type": "text",
    "id": "bBmZ1bg3wCeC"
   },
   "source": [
    "#### 15. Now we want to label the values in *d*. First create an empty array *f* with the same shape (i.e. 3x2x5) as *d* using `np.empty`.\n"
   ]
  },
  {
   "cell_type": "code",
   "execution_count": 25,
   "metadata": {
    "colab": {},
    "colab_type": "code",
    "id": "GVU7znV7wCeD"
   },
   "outputs": [
    {
     "name": "stdout",
     "output_type": "stream",
     "text": [
      "[[[0.00422158 0.44021277 0.08287269 0.97661259 0.57496878]\n",
      "  [0.99207714 0.07368704 0.94573326 0.95188969 0.47487828]]\n",
      "\n",
      " [[0.5012024  0.31284817 0.50421096 0.95119769 0.46673215]\n",
      "  [0.87766773 0.96386609 0.70678565 0.05218337 0.95948507]]\n",
      "\n",
      " [[0.28982271 0.40045797 0.41117119 0.90366446 0.09775773]\n",
      "  [0.61485394 0.9399552  0.25007808 0.24650698 0.0188853 ]]]\n"
     ]
    }
   ],
   "source": [
    "f = np.empty([3,2,5])\n",
    "print(f)"
   ]
  },
  {
   "cell_type": "markdown",
   "metadata": {
    "colab_type": "text",
    "id": "cwZMaPTawCeG"
   },
   "source": [
    "#### 16. Populate the values in *f*. \n",
    "\n",
    "For each value in *d*, if it's larger than *d_min* but smaller than *d_mean*, assign 25 to the corresponding value in *f*. If a value in *d* is larger than *d_mean* but smaller than *d_max*, assign 75 to the corresponding value in *f*. If a value equals to *d_mean*, assign 50 to the corresponding value in *f*. Assign 0 to the corresponding value(s) in *f* for *d_min* in *d*. Assign 100 to the corresponding value(s) in *f* for *d_max* in *d*. In the end, f should have only the following values: 0, 25, 50, 75, and 100.\n",
    "\n",
    "**Note**: you don't have to use Numpy in this question."
   ]
  },
  {
   "cell_type": "code",
   "execution_count": 26,
   "metadata": {
    "colab": {},
    "colab_type": "code",
    "id": "He3bA8_vwCeI"
   },
   "outputs": [
    {
     "name": "stdout",
     "output_type": "stream",
     "text": [
      "1.992077140692313\n",
      "1.004221578097504\n",
      "1.5328828890124129\n"
     ]
    }
   ],
   "source": [
    "d_max = np.max(d)\n",
    "d_min = np.min(d)\n",
    "d_mean = np.mean(d)\n",
    "print(d_max)\n",
    "print(d_min)\n",
    "print(d_mean)"
   ]
  },
  {
   "cell_type": "code",
   "execution_count": 27,
   "metadata": {
    "code_folding": []
   },
   "outputs": [
    {
     "name": "stdout",
     "output_type": "stream",
     "text": [
      "[[[  0.  25.  25.  75.  75.]\n",
      "  [100.  25.  75.  75.  25.]]\n",
      "\n",
      " [[ 25.  25.  25.  75.  25.]\n",
      "  [ 75.  75.  75.  25.  75.]]\n",
      "\n",
      " [[ 25.  25.  25.  75.  25.]\n",
      "  [ 75.  75.  25.  25.  25.]]]\n"
     ]
    }
   ],
   "source": [
    "for i in range(3):\n",
    "    for x in range(2):\n",
    "        for y in range(5):\n",
    "            \n",
    "            if d[i,x,y] > d_min and d[i,x,y] < d_mean:\n",
    "                f[i,x,y] = 25\n",
    "                \n",
    "            if d[i,x,y] > d_mean and d[i,x,y] < d_max:\n",
    "                f[i,x,y] = 75\n",
    "                \n",
    "            if d[i,x,y] == d_mean:\n",
    "                f[i,x,y] = 50\n",
    "                \n",
    "            if d_min == d[i,x,y]:\n",
    "                f[i,x,y] = 0\n",
    "                \n",
    "            if d_max == d[i,x,y]:\n",
    "                f[i,x,y] = 100 \n",
    "                \n",
    "print(f)"
   ]
  },
  {
   "cell_type": "markdown",
   "metadata": {
    "colab_type": "text",
    "id": "DtXatajMwCeM"
   },
   "source": [
    "#### 17. Print *d* and *f*. Do you have your expected *f*?\n",
    "For instance, if your *d* is:\n",
    "```python\n",
    "[[[1.85836099, 1.67064465, 1.62576044, 1.40243961, 1.88454931],\n",
    "  [1.75354326, 1.69403643, 1.36729252, 1.61415071, 1.12104981]],\n",
    "\n",
    "[[1.72201435, 1.1862918 , 1.87078449, 1.7726778 , 1.88180042],\n",
    "  [1.44747908, 1.31673383, 1.02000951, 1.52218947, 1.97066381]],\n",
    "\n",
    "[[1.79129243, 1.74983003, 1.96028037, 1.85166831, 1.65450881],\n",
    " [1.18068344, 1.9587381 , 1.00656599, 1.93402165, 1.73514584]]]\n",
    "```\n",
    "Your *f* should be:\n",
    "```python\n",
    "[[[ 75.  75.  75.  25.  75.]\n",
    "  [ 75.  75.  25.  25.  25.]]\n",
    "\n",
    " [[ 75.  25.  75.  75.  75.]\n",
    "  [ 25.  25.  25.  25. 100.]]\n",
    "\n",
    " [[ 75.  75.  75.  75.  75.]\n",
    "  [ 25.  75.   0.  75.  75.]]]\n",
    "```"
   ]
  },
  {
   "cell_type": "code",
   "execution_count": 28,
   "metadata": {
    "colab": {},
    "colab_type": "code",
    "id": "wvC83zaUwCeN"
   },
   "outputs": [
    {
     "name": "stdout",
     "output_type": "stream",
     "text": [
      "[[[1.00422158 1.44021277 1.08287269 1.97661259 1.57496878]\n",
      "  [1.99207714 1.07368704 1.94573326 1.95188969 1.47487828]]\n",
      "\n",
      " [[1.5012024  1.31284817 1.50421096 1.95119769 1.46673215]\n",
      "  [1.87766773 1.96386609 1.70678565 1.05218337 1.95948507]]\n",
      "\n",
      " [[1.28982271 1.40045797 1.41117119 1.90366446 1.09775773]\n",
      "  [1.61485394 1.9399552  1.25007808 1.24650698 1.0188853 ]]]\n",
      "-----------------------------------------\n",
      "[[[  0.  25.  25.  75.  75.]\n",
      "  [100.  25.  75.  75.  25.]]\n",
      "\n",
      " [[ 25.  25.  25.  75.  25.]\n",
      "  [ 75.  75.  75.  25.  75.]]\n",
      "\n",
      " [[ 25.  25.  25.  75.  25.]\n",
      "  [ 75.  75.  25.  25.  25.]]]\n"
     ]
    }
   ],
   "source": [
    "print(d)\n",
    "print(\"-----------------------------------------\")\n",
    "print(f)"
   ]
  },
  {
   "cell_type": "markdown",
   "metadata": {
    "colab_type": "text",
    "id": "ppRoFFJBwCeS"
   },
   "source": [
    "#### 18. Bonus question: instead of using numbers (i.e. 0, 25, 50, 75, and 100), use string values  (\"A\", \"B\", \"C\", \"D\", and \"E\") to label the array elements. For the example above, the expected result is:\n",
    "\n",
    "```python\n",
    "[[['D' 'D' 'D' 'B' 'D']\n",
    "  ['D' 'D' 'B' 'B' 'B']]\n",
    "\n",
    " [['D' 'B' 'D' 'D' 'D']\n",
    "  ['B' 'B' 'B' 'B' 'E']]\n",
    "\n",
    " [['D' 'D' 'D' 'D' 'D']\n",
    "  ['B' 'D' 'A' 'D' 'D']]]\n",
    "```\n",
    "**Note**: you don't have to use Numpy in this question."
   ]
  },
  {
   "cell_type": "code",
   "execution_count": 35,
   "metadata": {
    "colab": {},
    "colab_type": "code",
    "id": "xbBNSrnCwCeU"
   },
   "outputs": [
    {
     "name": "stdout",
     "output_type": "stream",
     "text": [
      "[[['A' 'B' 'B' 'D' 'D']\n",
      "  ['E' 'B' 'D' 'D' 'B']]\n",
      "\n",
      " [['B' 'B' 'B' 'D' 'B']\n",
      "  ['D' 'D' 'D' 'B' 'D']]\n",
      "\n",
      " [['B' 'B' 'B' 'D' 'B']\n",
      "  ['D' 'D' 'B' 'B' 'B']]]\n"
     ]
    }
   ],
   "source": [
    "f = f.astype('unicode_')\n",
    "f[f == '0.0'] = 'A'\n",
    "f[f == '25.0'] = 'B'\n",
    "f[f == '50.0'] = 'C'\n",
    "f[f == '75.0'] = 'D'\n",
    "f[f == '100.0'] = 'E'\n",
    "print(f)"
   ]
  },
  {
   "cell_type": "markdown",
   "metadata": {
    "colab_type": "text",
    "id": "QzJyLQiFMsyT"
   },
   "source": [
    "## Additional Challenges for the Nerds\n",
    "\n",
    "If you are way ahead of your classmates and willing to accept some tough challenges about Numpy, take one or several of the following Codewar *katas*. \tYou need to already possess a good amount of knowledge in Python and statistics because you will need to write Python functions, do loops, write conditionals, and deal with matrices.\n",
    "\n",
    "* [Insert dashes](https://www.codewars.com/kata/insert-dashes)\n",
    "* [Thinkful - Logic Drills: Red and bumpy](https://www.codewars.com/kata/thinkful-logic-drills-red-and-bumpy)"
   ]
  },
  {
   "cell_type": "code",
   "execution_count": 220,
   "metadata": {},
   "outputs": [
    {
     "name": "stdout",
     "output_type": "stream",
     "text": [
      "1-745-389\n"
     ]
    }
   ],
   "source": [
    "import re\n",
    "def Insert_dash(str):\n",
    "    regex = \"(?<=[13579])(?=[13579])\"\n",
    "    return re.sub(regex,'-', str)\n",
    "str = \"1745389\"\n",
    "print(Insert_dash(str))"
   ]
  },
  {
   "cell_type": "code",
   "execution_count": 246,
   "metadata": {},
   "outputs": [
    {
     "data": {
      "text/plain": [
       "'0.10'"
      ]
     },
     "execution_count": 246,
     "metadata": {},
     "output_type": "execute_result"
    }
   ],
   "source": [
    "red = 'red'\n",
    "smooth = 'smooth'\n",
    "def color_probability(color, texture):\n",
    "    if color == 'red' and texture == 'smooth':\n",
    "        return '0.10'\n",
    "    if color == 'red' and texture == 'bumpy':\n",
    "        return '0.57'\n",
    "    if color == 'green' and texture == 'smooth':\n",
    "        return '0.10'\n",
    "    if color == 'green' and texture == 'bumpy':\n",
    "        return '0.10'\n",
    "    if color == 'yellow' and texture == 'smooth':\n",
    "        return '0.10'\n",
    "    if color == 'yellow' and texture == 'bumpy':\n",
    "        return '0.10'\n",
    "color_probability(red, smooth)   "
   ]
  }
 ],
 "metadata": {
  "colab": {
   "collapsed_sections": [],
   "name": "main.ipynb",
   "provenance": []
  },
  "kernelspec": {
   "display_name": "Python 3",
   "language": "python",
   "name": "python3"
  },
  "language_info": {
   "codemirror_mode": {
    "name": "ipython",
    "version": 3
   },
   "file_extension": ".py",
   "mimetype": "text/x-python",
   "name": "python",
   "nbconvert_exporter": "python",
   "pygments_lexer": "ipython3",
   "version": "3.8.5"
  },
  "toc": {
   "base_numbering": 1,
   "nav_menu": {},
   "number_sections": true,
   "sideBar": true,
   "skip_h1_title": false,
   "title_cell": "Table of Contents",
   "title_sidebar": "Contents",
   "toc_cell": false,
   "toc_position": {},
   "toc_section_display": true,
   "toc_window_display": false
  },
  "varInspector": {
   "cols": {
    "lenName": 16,
    "lenType": 16,
    "lenVar": 40
   },
   "kernels_config": {
    "python": {
     "delete_cmd_postfix": "",
     "delete_cmd_prefix": "del ",
     "library": "var_list.py",
     "varRefreshCmd": "print(var_dic_list())"
    },
    "r": {
     "delete_cmd_postfix": ") ",
     "delete_cmd_prefix": "rm(",
     "library": "var_list.r",
     "varRefreshCmd": "cat(var_dic_list()) "
    }
   },
   "types_to_exclude": [
    "module",
    "function",
    "builtin_function_or_method",
    "instance",
    "_Feature"
   ],
   "window_display": false
  }
 },
 "nbformat": 4,
 "nbformat_minor": 1
}
