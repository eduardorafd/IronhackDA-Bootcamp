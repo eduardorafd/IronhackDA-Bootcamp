{
 "cells": [
  {
   "cell_type": "markdown",
   "metadata": {},
   "source": [
    "# Lab - Object Oriented Programming"
   ]
  },
  {
   "cell_type": "markdown",
   "metadata": {},
   "source": [
    "# Challenge 1"
   ]
  },
  {
   "cell_type": "markdown",
   "metadata": {},
   "source": [
    "## Creating a class"
   ]
  },
  {
   "cell_type": "markdown",
   "metadata": {},
   "source": [
    "First of all, let's create a simple class. Name this class `Car`. ([PEP8](https://www.python.org/dev/peps/pep-0008/#class-names) suggests using CamelCase for class names, i.e., using the first letter of each name as upper-case.)\n",
    "\n",
    "That should be as simple as possible. Use the class syntax to create it and its content should be only the \n",
    "```python \n",
    "pass\n",
    "```\n",
    "statement.\n",
    "\n",
    "\n",
    "The `pass` statement is used just as a placeholder. This will be a class that doesn't do anything (yet)."
   ]
  },
  {
   "cell_type": "code",
   "execution_count": 585,
   "metadata": {},
   "outputs": [],
   "source": [
    "class Car:\n",
    "    pass"
   ]
  },
  {
   "cell_type": "markdown",
   "metadata": {},
   "source": [
    "## Let's think of which attributes should a car have\n",
    "\n",
    "Think of attributes that are intrinsic of a car. Think of 5 attributes that all cars have and their possible values. Write down these 5 attributes for later use."
   ]
  },
  {
   "cell_type": "code",
   "execution_count": 666,
   "metadata": {},
   "outputs": [],
   "source": [
    "# write the attributes name you've chosen as a comment here.\n",
    "# colour, size, weight, fuel capacity, number of passengers"
   ]
  },
  {
   "cell_type": "markdown",
   "metadata": {},
   "source": [
    "\n",
    "We will create the `__init(self,)__` special method. This is the first thing that is run when you instantiate a new object (by calling `Car()` for example).\n",
    "\n",
    "So each object that you are creating will instantly do whatever operation you perfom inside `__init(self,)__`. If you create new attributes over there, it will be accessible as soon as you create it. If you, instead, run some internal methods, it will perform as soon as the variable is created.\n",
    "\n",
    "Let's check that."
   ]
  },
  {
   "cell_type": "markdown",
   "metadata": {},
   "source": [
    "### Create a `__init__(self)` special method inside your `Car` class and then perform a `for loop`  inside of it. \n"
   ]
  },
  {
   "cell_type": "markdown",
   "metadata": {},
   "source": [
    "To see the what happens when you initialize your class when a `__init__(self)` method exists, define this function and plug the following piece of code inside of it.\n",
    "\n",
    "```python\n",
    "from tqdm.auto import tqdm\n",
    "import time\n",
    "\n",
    "for i in tqdm(range(10), desc='__init__ is running, yay'):\n",
    "    time.sleep(.1)\n",
    "```"
   ]
  },
  {
   "cell_type": "code",
   "execution_count": 7,
   "metadata": {},
   "outputs": [],
   "source": [
    "class Car:\n",
    "    def __init__(self):\n",
    "        from tqdm.auto import tqdm\n",
    "        import time\n",
    "\n",
    "        for i in tqdm(range(10), desc='__init__ is running, yay'):\n",
    "            time.sleep(.1)  "
   ]
  },
  {
   "cell_type": "markdown",
   "metadata": {},
   "source": [
    "### Afterwards, instantiate your `Car` class and see this beauty."
   ]
  },
  {
   "cell_type": "code",
   "execution_count": 8,
   "metadata": {},
   "outputs": [
    {
     "data": {
      "application/vnd.jupyter.widget-view+json": {
       "model_id": "bef9eb8963ad4da1a300885e09696b86",
       "version_major": 2,
       "version_minor": 0
      },
      "text/plain": [
       "HBox(children=(HTML(value='__init__ is running, yay'), FloatProgress(value=0.0, max=10.0), HTML(value='')))"
      ]
     },
     "metadata": {},
     "output_type": "display_data"
    },
    {
     "name": "stdout",
     "output_type": "stream",
     "text": [
      "\n"
     ]
    },
    {
     "data": {
      "text/plain": [
       "<__main__.Car at 0x11b82857490>"
      ]
     },
     "execution_count": 8,
     "metadata": {},
     "output_type": "execute_result"
    }
   ],
   "source": [
    "Car()"
   ]
  },
  {
   "cell_type": "markdown",
   "metadata": {},
   "source": [
    "## Understanding the self argument"
   ]
  },
  {
   "cell_type": "markdown",
   "metadata": {},
   "source": [
    "Now, below the `for loop` you've created, let's create the attributes of the `Car` class. Remember the attributes you wrote down earlier? Let's put them as arguments of the `__init__(self,)` function.\n",
    "\n",
    "Remember, the first argument of the `__init__(self,)` function should always be the `self` keyword. \n",
    "\n",
    "The `self` argument represents the object itself. That is a way for you to have access to the objects own attribute. \n"
   ]
  },
  {
   "cell_type": "code",
   "execution_count": null,
   "metadata": {},
   "outputs": [],
   "source": [
    "class Car:\n",
    "    def __init__(self):\n",
    "        from tqdm.auto import tqdm\n",
    "        import time\n",
    "\n",
    "        for i in tqdm(range(10), desc='__init__ is running, yay'):\n",
    "            time.sleep(.1)\n",
    "            \n",
    "        def __init__(self, colour, size, weight, fuel capacity, number of passengers)    \n",
    "        colour = 'yellow'\n",
    "        size = '50'\n",
    "        weight = '100'\n",
    "        fuel capacity = '400'\n",
    "        number of passengers = 8"
   ]
  },
  {
   "cell_type": "markdown",
   "metadata": {},
   "source": [
    "### First, let's start creating one single attribute of this car."
   ]
  },
  {
   "cell_type": "markdown",
   "metadata": {},
   "source": [
    "Let's say you have chosen `name` as a car attribute (what? can't a car have a name?). \n",
    "\n",
    "If you want your class to receive a specific car name as an argument, you have to put this variable as the argument of the `__init__` function. So, to add `name`, the results of your special function definition would be:\n",
    "\n",
    "```python\n",
    "def __init__(self, name):\n",
    "    pass\n",
    "```\n",
    "\n",
    "Now, when you instantiate your Car class, the syntax would be similar to calling a function (which, by now, you should now that it is what you are effectively doing - you are calling the __init__ method), so what the syntax would be:\n",
    "\n",
    "*Hint: If you don't specify an argument, the python interpreter will complain that your class requires one argument (try that - if you don't try it now, it is not a problem, you'll try in future, even when you don't want to).*\n"
   ]
  },
  {
   "cell_type": "code",
   "execution_count": 34,
   "metadata": {
    "scrolled": true
   },
   "outputs": [],
   "source": [
    "class Car:\n",
    "    def __init__(self, colour, size, weight, fuel_capacity, number_of_passengers):\n",
    "        colour = 'yellow'\n",
    "        size = '50'\n",
    "        weight = '100'\n",
    "        fuel_capacity = '400'\n",
    "        number_of_passengers = 8"
   ]
  },
  {
   "cell_type": "markdown",
   "metadata": {},
   "source": [
    "### Now let's store that new argument\n",
    "\n",
    "By now, you are only receiving the name of the car as an argument, but you are not doing anything specifically with that variable called `name`.\n",
    "\n",
    "Let's store that in the object. That's the first use of the `self` keyword.\n",
    "\n",
    "To store the variable in a way that the user can access via a `car.SOMETHING`, you have to specify that the object itself is receiving the attribute `name` (for example)\n",
    "\n",
    "Then, **create a variable called `name` that receives the argument `name`** (keep in mind that the name of the variable need not necessarily be the same, you could assing the argument `name` to an attribute called `chimpanze` for example).\n",
    "\n",
    "Also **create the other 5 attributes that you previously had in mind**\n"
   ]
  },
  {
   "cell_type": "code",
   "execution_count": 91,
   "metadata": {},
   "outputs": [],
   "source": [
    "class Car:\n",
    "    def __init__(self, colour= str(), size=0, weight=0, fuel_capacity=0, number_of_passengers=0):\n",
    "        self.colour = colour\n",
    "        self.size = size\n",
    "        self.weight = weight\n",
    "        self.fuel_capacity = fuel_capacity\n",
    "        self.number_of_passengers = number_of_passengers\n",
    "car = Car(\"Yellow\", 50, 100, 500, 8)         "
   ]
  },
  {
   "cell_type": "markdown",
   "metadata": {},
   "source": [
    "### Access the attribute\n",
    "\n",
    "You should now be able to access the object's attribute once you instantiate it as `my_car.name`\n",
    "\n",
    "You can try to write `my_car.<TAB>` to check what attributes or methods your object contains."
   ]
  },
  {
   "cell_type": "code",
   "execution_count": 92,
   "metadata": {},
   "outputs": [
    {
     "data": {
      "text/plain": [
       "'Yellow'"
      ]
     },
     "execution_count": 92,
     "metadata": {},
     "output_type": "execute_result"
    }
   ],
   "source": [
    "car.colour"
   ]
  },
  {
   "cell_type": "markdown",
   "metadata": {},
   "source": [
    "## Understanding special methods"
   ]
  },
  {
   "cell_type": "markdown",
   "metadata": {},
   "source": [
    "Special methods are the ones that start with double underlines (usually called `dunder`), for example the `__init__` method, the `__doc__` method or `__repr__` method (called as `dunder init`, `dunder doc`, `dunder repr`)."
   ]
  },
  {
   "cell_type": "markdown",
   "metadata": {},
   "source": [
    "The `__repr__` method is responsible to show how your class will be displayed on screen when you display it.\n",
    "Let's create a `__repr__(self)` function on our `Car` class that returns the following string below (copy the string below):\n",
    "\n",
    "```python\n",
    "    car = f'''\n",
    "                  ______--------___\n",
    "                 /|             / |\n",
    "      o___________|_\\__________/__|\n",
    "     ]|___     |  |=   ||  =|___  |\"\n",
    "     //   \\\\    |  |____||_///   \\\\|\"\n",
    "    |  X  |\\--------------/|  X  |\\\"\n",
    "     \\___/                  \\___/\n",
    "    '''\n",
    "```\n",
    "\n",
    "Your class should now have two special methods, `__init__` and `__repr__`"
   ]
  },
  {
   "cell_type": "code",
   "execution_count": 93,
   "metadata": {},
   "outputs": [],
   "source": [
    "class Car:\n",
    "    def __init__(self, colour: str, size=0, weight=0, fuel_capacity=0, number_of_passengers=0):\n",
    "        self.colour = colour\n",
    "        self.size = size\n",
    "        self.weight = weight\n",
    "        self.fuel_capacity = fuel_capacity\n",
    "        self.number_of_passengers = number_of_passengers\n",
    " \n",
    "    def __repr__(self):\n",
    "        car = f'''\n",
    "                  ______--------___\n",
    "                 /|             / |\n",
    "      o___________|_\\__________/__|\n",
    "     ]|___     |  |=   ||  =|___  |\"\n",
    "     //   \\\\    |  |____||_///   \\\\|\"\n",
    "    |  X  |\\--------------/|  X  |\\\"\n",
    "     \\___/                  \\___/\n",
    "    '''\n",
    "        return car"
   ]
  },
  {
   "cell_type": "markdown",
   "metadata": {},
   "source": [
    "### Now instantiate your Car class again"
   ]
  },
  {
   "cell_type": "code",
   "execution_count": 96,
   "metadata": {},
   "outputs": [],
   "source": [
    "carro = Car('yellow')"
   ]
  },
  {
   "cell_type": "markdown",
   "metadata": {},
   "source": [
    "### And check what happens when you print your object on screen"
   ]
  },
  {
   "cell_type": "code",
   "execution_count": 97,
   "metadata": {},
   "outputs": [
    {
     "data": {
      "text/plain": [
       "\n",
       "                  ______--------___\n",
       "                 /|             / |\n",
       "      o___________|_\\__________/__|\n",
       "     ]|___     |  |=   ||  =|___  |\"\n",
       "     //   \\    |  |____||_///   \\|\"\n",
       "    |  X  |\\--------------/|  X  |\"\n",
       "     \\___/                  \\___/\n",
       "    "
      ]
     },
     "execution_count": 97,
     "metadata": {},
     "output_type": "execute_result"
    }
   ],
   "source": [
    "carro"
   ]
  },
  {
   "cell_type": "markdown",
   "metadata": {},
   "source": [
    "### Now create a simple method to receive and return the `self` variable\n",
    "\n",
    "Create a simple method inside your `class Car` and return `self` the self argument. Name this method `get_itself`."
   ]
  },
  {
   "cell_type": "code",
   "execution_count": 55,
   "metadata": {},
   "outputs": [],
   "source": [
    "class Car:\n",
    "    def __init__(self, colour: str, size=0, weight=0, fuel_capacity=0, number_of_passengers=0):\n",
    "        self.colour = colour\n",
    "        self.size = size\n",
    "        self.weight = weight\n",
    "        self.fuel_capacity = fuel_capacity\n",
    "        self.number_of_passengers = number_of_passengers\n",
    " \n",
    "    def __repr__(self):\n",
    "        car = f'''\n",
    "                  ______--------___\n",
    "                 /|             / |\n",
    "      o___________|_\\__________/__|\n",
    "     ]|___     |  |=   ||  =|___  |\"\n",
    "     //   \\\\    |  |____||_///   \\\\|\"\n",
    "    |  X  |\\--------------/|  X  |\\\"\n",
    "     \\___/                  \\___/\n",
    "    '''\n",
    "        return car\n",
    "\n",
    "    def get_itself(self):\n",
    "        return self    "
   ]
  },
  {
   "cell_type": "markdown",
   "metadata": {},
   "source": [
    "#### Now instantiate the Car class and call `get_itself()`"
   ]
  },
  {
   "cell_type": "code",
   "execution_count": 59,
   "metadata": {},
   "outputs": [],
   "source": [
    "carro = Car(\"yellow\")"
   ]
  },
  {
   "cell_type": "code",
   "execution_count": 60,
   "metadata": {},
   "outputs": [
    {
     "data": {
      "text/plain": [
       "\n",
       "                  ______--------___\n",
       "                 /|             / |\n",
       "      o___________|_\\__________/__|\n",
       "     ]|___     |  |=   ||  =|___  |\"\n",
       "     //   \\    |  |____||_///   \\|\"\n",
       "    |  X  |\\--------------/|  X  |\"\n",
       "     \\___/                  \\___/\n",
       "    "
      ]
     },
     "execution_count": 60,
     "metadata": {},
     "output_type": "execute_result"
    }
   ],
   "source": [
    "carro.get_itself()"
   ]
  },
  {
   "cell_type": "markdown",
   "metadata": {},
   "source": [
    "This happens because you are print this specific object. "
   ]
  },
  {
   "cell_type": "markdown",
   "metadata": {},
   "source": [
    "# Bonus 1"
   ]
  },
  {
   "cell_type": "markdown",
   "metadata": {},
   "source": [
    "### Now let's parametrize this drawing."
   ]
  },
  {
   "cell_type": "markdown",
   "metadata": {},
   "source": [
    "Change your class to receive the drawing you want to output as a parameter. Modify your __repr__ method to use that parameter instead of the fixed drawing we used upwards."
   ]
  },
  {
   "cell_type": "code",
   "execution_count": 693,
   "metadata": {},
   "outputs": [],
   "source": [
    "class Car:\n",
    "    def __init__(self, colour: str, car):\n",
    "        self.colour = colour\n",
    "        self.car = car\n",
    "    def __repr__(self):\n",
    "        car = self.car\n",
    "        return car\n",
    "\n",
    "    def get_itself(self):\n",
    "        return self    "
   ]
  },
  {
   "cell_type": "code",
   "execution_count": 63,
   "metadata": {},
   "outputs": [
    {
     "data": {
      "text/plain": [
       "\n",
       "                  ______--------___\n",
       "                 /|             / |\n",
       "      o___________|_\\__________/__|\n",
       "     ]|___     |  |=   ||  =|___  |\"\n",
       "     //   \\    |  |____||_///   \\|\"\n",
       "    |  X  |\\--------------/|  X  |\"\n",
       "     \\___/                  \\___/\n",
       "    "
      ]
     },
     "execution_count": 63,
     "metadata": {},
     "output_type": "execute_result"
    }
   ],
   "source": [
    "car = f'''\n",
    "              ______--------___\n",
    "             /|             / |\n",
    "  o___________|_\\__________/__|\n",
    " ]|___     |  |=   ||  =|___  |\"\n",
    " //   \\\\    |  |____||_///   \\\\|\"\n",
    "|  X  |\\--------------/|  X  |\\\"\n",
    " \\___/                  \\___/\n",
    "'''\n",
    "carro = Car(\"yellow\", car)\n",
    "carro\n"
   ]
  },
  {
   "cell_type": "code",
   "execution_count": 67,
   "metadata": {},
   "outputs": [
    {
     "data": {
      "text/plain": [
       "\n",
       "                   _\n",
       " _________________| \\_\n",
       "|   ___    |  ,|   ___`-.\n",
       "|  /   \\   |___/  /   \\  `-.\n",
       "|_| (O) |________| (O) |____|\n",
       "   \\___/          \\___/"
      ]
     },
     "execution_count": 67,
     "metadata": {},
     "output_type": "execute_result"
    }
   ],
   "source": [
    "   \n",
    "car = '''\n",
    "                   _\n",
    " _________________| \\_\n",
    "|   ___    |  ,|   ___`-.\n",
    "|  /   \\   |___/  /   \\  `-.\n",
    "|_| (O) |________| (O) |____|\n",
    "   \\___/          \\___/\n",
    "'''\n",
    "carro = Car(\"blue\", car)\n",
    "carro\n"
   ]
  },
  {
   "cell_type": "markdown",
   "metadata": {},
   "source": [
    "# Bonus 2"
   ]
  },
  {
   "cell_type": "markdown",
   "metadata": {},
   "source": [
    "## Create a specialized version of a car - an Uber"
   ]
  },
  {
   "cell_type": "markdown",
   "metadata": {},
   "source": [
    "You'll now create a specific version of a car. It contains the same attributes and functions of the class of cars, but it is specifically a Uber."
   ]
  },
  {
   "cell_type": "markdown",
   "metadata": {},
   "source": [
    "### Create a class called `Uber` that inherits from a `Car`"
   ]
  },
  {
   "cell_type": "code",
   "execution_count": null,
   "metadata": {},
   "outputs": [],
   "source": [
    "class Uber:\n",
    "    def __init__(self):\n",
    "        .super().__init__(self, colour: str, car)\n",
    "        self.x = x        "
   ]
  },
  {
   "cell_type": "markdown",
   "metadata": {},
   "source": [
    "### Extending the `Car` class. \n",
    "\n",
    "When you create a new class based on another and create new attributes and methods for it, you are extending it. \n",
    "\n",
    "#### Let's create 2 new attributes that only `Uber cars` have. \n",
    "\n",
    "Create the `category` of the Uber (`Black`, `Platinun`, etc) and one more attribute of your choice."
   ]
  },
  {
   "cell_type": "markdown",
   "metadata": {},
   "source": [
    "#### Let's create a method for this new `Uber` class that calculates the price of the run given the distance in km and time spent (in minutes) in the run. \n",
    "\n",
    "Suppose each km costs `R$ 1,00` and 1 minute costs `R$ 0,50` for `Uber` Black and `R$ 1,20` and 1 minute costs `R$ 0,60` for `Uber`  Platinum.  The final price is the max between the two.\n",
    "\n",
    "```python\n",
    "def get_price(km, time):\n",
    "    ...\n",
    "    return final_price\n",
    "```\n",
    "\n",
    "Then calculate the price of your `Uber` from:\n",
    "\n",
    "1. A `Uber Black` going from Ironhack to Guarulhos Airport (`1h:20min, 30.5km`)\n",
    "1. A `Uber Platinum` going from Ironhack to Guarulhos Airport (`1h:20min, 30.5km`)"
   ]
  },
  {
   "cell_type": "code",
   "execution_count": 71,
   "metadata": {},
   "outputs": [],
   "source": [
    "class Car:\n",
    "    def __init__(self, colour= str, size=0, weight=0, fuel_capacity=0, number_of_passengers=0):\n",
    "        self.colour = colour\n",
    "        self.size = size\n",
    "        self.weight = weight\n",
    "        self.fuel_capacity = fuel_capacity\n",
    "        self.number_of_passengers = number_of_passengers"
   ]
  },
  {
   "cell_type": "code",
   "execution_count": 80,
   "metadata": {},
   "outputs": [
    {
     "data": {
      "text/plain": [
       "80.5"
      ]
     },
     "execution_count": 80,
     "metadata": {},
     "output_type": "execute_result"
    }
   ],
   "source": [
    "class Uber(Car):\n",
    "    def __init__(self, colour=str(), size=0, weight=0, fuel_capacity=0, number_of_passengers=0,category= str()):\n",
    "        super().__init__(colour, size, weight, fuel_capacity, number_of_passengers)\n",
    "        self.category = category \n",
    "        \n",
    "    \n",
    "    def get_price(self, km ,time):\n",
    "        if self.category == \"black\":\n",
    "            return km + 0.5*time\n",
    "        elif self.category == 'platinum':\n",
    "            return 1.2*km + 0.6*time\n",
    "        else:\n",
    "            print(\"Can't have this category for calculate price\")\n",
    "        \n",
    "        \n",
    "black = Uber(colour = 'yellow', category = 'black')        \n",
    "platinum = Uber('platinum')        \n",
    "black.get_price(30.5, 100)             "
   ]
  },
  {
   "cell_type": "code",
   "execution_count": 74,
   "metadata": {},
   "outputs": [
    {
     "data": {
      "text/plain": [
       "96.6"
      ]
     },
     "execution_count": 74,
     "metadata": {},
     "output_type": "execute_result"
    }
   ],
   "source": [
    "platinum.get_price(30.5, 100)"
   ]
  }
 ],
 "metadata": {
  "kernelspec": {
   "display_name": "Python 3",
   "language": "python",
   "name": "python3"
  },
  "language_info": {
   "codemirror_mode": {
    "name": "ipython",
    "version": 3
   },
   "file_extension": ".py",
   "mimetype": "text/x-python",
   "name": "python",
   "nbconvert_exporter": "python",
   "pygments_lexer": "ipython3",
   "version": "3.8.5"
  },
  "toc": {
   "base_numbering": 1,
   "nav_menu": {},
   "number_sections": true,
   "sideBar": true,
   "skip_h1_title": false,
   "title_cell": "Table of Contents",
   "title_sidebar": "Contents",
   "toc_cell": false,
   "toc_position": {},
   "toc_section_display": true,
   "toc_window_display": false
  },
  "varInspector": {
   "cols": {
    "lenName": 16,
    "lenType": 16,
    "lenVar": 40
   },
   "kernels_config": {
    "python": {
     "delete_cmd_postfix": "",
     "delete_cmd_prefix": "del ",
     "library": "var_list.py",
     "varRefreshCmd": "print(var_dic_list())"
    },
    "r": {
     "delete_cmd_postfix": ") ",
     "delete_cmd_prefix": "rm(",
     "library": "var_list.r",
     "varRefreshCmd": "cat(var_dic_list()) "
    }
   },
   "types_to_exclude": [
    "module",
    "function",
    "builtin_function_or_method",
    "instance",
    "_Feature"
   ],
   "window_display": false
  }
 },
 "nbformat": 4,
 "nbformat_minor": 2
}
