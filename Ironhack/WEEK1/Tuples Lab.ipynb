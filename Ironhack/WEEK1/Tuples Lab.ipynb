{
 "cells": [
  {
   "cell_type": "markdown",
   "metadata": {
    "colab_type": "text",
    "id": "-Zg4yM02BhP4"
   },
   "source": [
    "## Challenge 1: Tuples\n",
    "\n",
    "#### Do you know you can create tuples with only one element?\n",
    "\n",
    "**In the cell below, define a variable `tup` with a single element `\"I\"`.**\n",
    "\n",
    "*Hint: you need to add a comma (`,`) after the single element.*"
   ]
  },
  {
   "cell_type": "code",
   "execution_count": 18,
   "metadata": {
    "colab": {},
    "colab_type": "code",
    "id": "lo0BivxsBhP7"
   },
   "outputs": [],
   "source": [
    "tup = (\"I\", )"
   ]
  },
  {
   "cell_type": "markdown",
   "metadata": {
    "colab_type": "text",
    "id": "VtX5LuRbBhQC"
   },
   "source": [
    "#### Print the type of `tup`. \n",
    "\n",
    "Make sure its type is correct (i.e. *tuple* instead of *str*)."
   ]
  },
  {
   "cell_type": "code",
   "execution_count": 19,
   "metadata": {
    "colab": {},
    "colab_type": "code",
    "id": "j9MW7jQ7BhQC"
   },
   "outputs": [
    {
     "data": {
      "text/plain": [
       "tuple"
      ]
     },
     "execution_count": 19,
     "metadata": {},
     "output_type": "execute_result"
    }
   ],
   "source": [
    "type(tup)"
   ]
  },
  {
   "cell_type": "markdown",
   "metadata": {
    "colab_type": "text",
    "id": "DwR4FCDhBhQH"
   },
   "source": [
    "#### Now try to append the following elements to `tup`. \n",
    "\n",
    "Are you able to do it? Explain.\n",
    "\n",
    "```\n",
    "\"r\", \"o\", \"n\", \"h\", \"a\", \"c\", \"k',\n",
    "```"
   ]
  },
  {
   "cell_type": "code",
   "execution_count": 20,
   "metadata": {
    "colab": {},
    "colab_type": "code",
    "id": "rYpdY_1gBhQI"
   },
   "outputs": [
    {
     "name": "stdout",
     "output_type": "stream",
     "text": [
      "('I', 'r', 'o', 'n', 'h', 'a', 'c', 'k')\n"
     ]
    }
   ],
   "source": [
    "tup = (\"I\", )\n",
    "tup = list(tup)\n",
    "nome = [\"r\", \"o\", \"n\", \"h\", \"a\", \"c\", \"k\"]\n",
    "for i in nome:\n",
    "    tup.append(i)\n",
    "print(tuple(tup))\n",
    "# Explanation:\n",
    "\n",
    "#First , i repeated the steps i did before to make sure i have all the informations. Then, i created a list called \"nome\" for\n",
    "# avoid repeating lines to each element. After, i decided to use the for loop so it could add the elemts to the list tup.\n",
    "# Finally , i changed it again to a tuple and i printed it. "
   ]
  },
  {
   "cell_type": "markdown",
   "metadata": {
    "colab_type": "text",
    "id": "vxiLDRW_BhQM"
   },
   "source": [
    "#### How about re-assign a new value to an existing tuple?\n",
    "\n",
    "Re-assign the following elements to `tup`. Are you able to do it? Explain.\n",
    "\n",
    "```\n",
    "\"I\", \"r\", \"o\", \"n\", \"h\", \"a\", \"c\", \"k\"\n",
    "```"
   ]
  },
  {
   "cell_type": "code",
   "execution_count": 24,
   "metadata": {
    "colab": {},
    "colab_type": "code",
    "id": "7mQ_9MNyBhQN"
   },
   "outputs": [],
   "source": [
    "tup = (\"I\", \"r\", \"o\", \"n\", \"h\", \"a\", \"c\", \"k\")\n",
    "# i just used the same variable to group a new value"
   ]
  },
  {
   "cell_type": "markdown",
   "metadata": {
    "colab_type": "text",
    "id": "Z8-HV7rmBhQR"
   },
   "source": [
    "#### Split `tup` into `tup1` and `tup2` with 4 elements in each. \n",
    "\n",
    "`tup1` should be `(\"I\", \"r\", \"o\", \"n\")` and `tup2` should be `(\"h\", \"a\", \"c\", \"k\")`.\n",
    "\n",
    "*Hint: use positive index numbers for `tup1` assignment and use negative index numbers for `tup2` assignment. Positive index numbers count from the beginning whereas negative index numbers count from the end of the sequence.*\n",
    "\n",
    "Also print `tup1` and `tup2`."
   ]
  },
  {
   "cell_type": "code",
   "execution_count": 21,
   "metadata": {
    "colab": {},
    "colab_type": "code",
    "id": "U5y0usrdBhQS"
   },
   "outputs": [
    {
     "name": "stdout",
     "output_type": "stream",
     "text": [
      "here is the tup1: ['I', 'r', 'o', 'n']\n",
      "and here the tup2: ['h', 'a', 'c', 'k']\n"
     ]
    }
   ],
   "source": [
    "# Your code here\n",
    "tup1 = tup[0:4]\n",
    "print(\"here is the tup1:\", tup1)\n",
    "tup2 = tup[4:]\n",
    "print(\"and here the tup2:\", tup2)"
   ]
  },
  {
   "cell_type": "code",
   "execution_count": 32,
   "metadata": {
    "colab": {},
    "colab_type": "code",
    "id": "ZJNLjI7oBhQW"
   },
   "outputs": [
    {
     "data": {
      "text/plain": [
       "('h', 'a', 'c', 'k')"
      ]
     },
     "execution_count": 32,
     "metadata": {},
     "output_type": "execute_result"
    }
   ],
   "source": [
    "tup[-4:]"
   ]
  },
  {
   "cell_type": "markdown",
   "metadata": {
    "colab_type": "text",
    "id": "pD6mNeP9BhQf"
   },
   "source": [
    "#### Add `tup1` and `tup2` into `tup3` using the `+` operator.\n",
    "\n",
    "Then print `tup3` and check if `tup3` equals to `tup`."
   ]
  },
  {
   "cell_type": "code",
   "execution_count": 40,
   "metadata": {
    "colab": {},
    "colab_type": "code",
    "id": "unx60OMWBhQg"
   },
   "outputs": [
    {
     "name": "stdout",
     "output_type": "stream",
     "text": [
      "('I', 'r', 'o', 'n', 'h', 'a', 'c', 'k')\n",
      "They are equal\n"
     ]
    }
   ],
   "source": [
    "tup3 = tup1 + tup2\n",
    "print(tuple(tup3))\n",
    "if tuple(tup3) == tup:\n",
    "    print(\"They are equal\")\n"
   ]
  },
  {
   "cell_type": "markdown",
   "metadata": {
    "colab_type": "text",
    "id": "ayeU2vHxBhQj"
   },
   "source": [
    "#### Count the number of elements in `tup1` and `tup2`. Then add the two counts together and check if the sum is the same as the number of elements in `tup3`."
   ]
  },
  {
   "cell_type": "code",
   "execution_count": 88,
   "metadata": {
    "colab": {},
    "colab_type": "code",
    "id": "0mqNXMctBhQl"
   },
   "outputs": [
    {
     "name": "stdout",
     "output_type": "stream",
     "text": [
      "Count tup1 : 4\n",
      "Count tup2 : 4\n",
      "The sum is: 8\n",
      "The count of tup3 is also: 8\n"
     ]
    }
   ],
   "source": [
    "print(\"Count tup1 :\", len(tup1))\n",
    "print(\"Count tup2 :\", len(tup2))\n",
    "print(\"The sum is:\", len(tup1) + len(tup2))\n",
    "print(\"The count of tup3 is also:\", len(tup3))"
   ]
  },
  {
   "cell_type": "markdown",
   "metadata": {
    "colab_type": "text",
    "id": "9xLtd79kBhQo"
   },
   "source": [
    "#### What is the index number of `\"h\"` in `tup3`?"
   ]
  },
  {
   "cell_type": "code",
   "execution_count": 89,
   "metadata": {
    "colab": {},
    "colab_type": "code",
    "id": "LVVwYZt5BhQp"
   },
   "outputs": [
    {
     "name": "stdout",
     "output_type": "stream",
     "text": [
      "The index number of H is: 4\n"
     ]
    }
   ],
   "source": [
    "# Your code here\n",
    "print(\"The index number of H is:\", tup.index(\"h\"))"
   ]
  },
  {
   "cell_type": "markdown",
   "metadata": {
    "colab_type": "text",
    "id": "lf09qlmmBhQt"
   },
   "source": [
    "#### Now, use a FOR loop to check whether each letter in the following list is present in `tup3`:\n",
    "\n",
    "```\n",
    "letters = [\"a\", \"b\", \"c\", \"d\", \"e\"]\n",
    "```\n",
    "\n",
    "For each letter you check, print `True` if it is present in `tup3` otherwise print `False`.\n",
    "\n",
    "*Hint: you only need to loop `letters`. You don't need to loop `tup3` because there is a Python operator `in` you can use. See [reference](https://stackoverflow.com/questions/17920147/how-to-check-if-a-tuple-contains-an-element-in-python).*"
   ]
  },
  {
   "cell_type": "code",
   "execution_count": 96,
   "metadata": {
    "colab": {},
    "colab_type": "code",
    "id": "cXhlYXWRBhQu"
   },
   "outputs": [
    {
     "name": "stdout",
     "output_type": "stream",
     "text": [
      "True The letter: a is in tup3\n",
      "\n",
      "False The letter: b is not in tup3\n",
      "\n",
      "True The letter: c is in tup3\n",
      "\n",
      "False The letter: d is not in tup3\n",
      "\n",
      "False The letter: e is not in tup3\n",
      "\n"
     ]
    }
   ],
   "source": [
    "tup3 = ('I', 'r', 'o', 'n', 'h', 'a', 'c', 'k')\n",
    "letters = [\"a\", \"b\", \"c\", \"d\", \"e\"]\n",
    "counter = 0\n",
    "for i in letters:\n",
    "    if i in tup3:\n",
    "        print(True, \"The letter:\", i, \"is in tup3\\n\")\n",
    "        counter +=1\n",
    "    else:\n",
    "        print(False, \"The letter:\", i, \"is not in tup3\\n\")"
   ]
  },
  {
   "cell_type": "markdown",
   "metadata": {
    "colab_type": "text",
    "id": "rk4WFJ5DBhQy"
   },
   "source": [
    "#### How many times does each letter in `letters` appear in `tup3`?\n",
    "\n",
    "Print out the number of occurrence of each letter."
   ]
  },
  {
   "cell_type": "code",
   "execution_count": 97,
   "metadata": {
    "colab": {},
    "colab_type": "code",
    "id": "jYh4jiEaBhQy"
   },
   "outputs": [
    {
     "name": "stdout",
     "output_type": "stream",
     "text": [
      "2 letters appear in tup3\n"
     ]
    }
   ],
   "source": [
    "print(counter, \"letters appear in tup3\")"
   ]
  }
 ],
 "metadata": {
  "colab": {
   "name": "challenge-1.ipynb",
   "provenance": []
  },
  "kernelspec": {
   "display_name": "Python 3",
   "language": "python",
   "name": "python3"
  },
  "language_info": {
   "codemirror_mode": {
    "name": "ipython",
    "version": 3
   },
   "file_extension": ".py",
   "mimetype": "text/x-python",
   "name": "python",
   "nbconvert_exporter": "python",
   "pygments_lexer": "ipython3",
   "version": "3.8.5"
  }
 },
 "nbformat": 4,
 "nbformat_minor": 1
}
