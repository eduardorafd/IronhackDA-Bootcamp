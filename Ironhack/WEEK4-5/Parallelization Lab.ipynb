{
 "cells": [
  {
   "cell_type": "markdown",
   "metadata": {
    "id": "MLBUDdX8SEjl"
   },
   "source": [
    "# Parallelization Lab\n",
    "\n",
    "In this lab, you will be leveraging several concepts you have learned to obtain a list of links from a web page and crawl and index the pages referenced by those links - both sequentially and in parallel. Follow the steps below to complete the lab.\n",
    "\n",
    "### Step 1: Use the requests library to retrieve the content from the URL below."
   ]
  },
  {
   "cell_type": "code",
   "execution_count": 1,
   "metadata": {
    "ExecuteTime": {
     "end_time": "2021-04-16T14:02:10.098304Z",
     "start_time": "2021-04-16T14:02:08.918487Z"
    },
    "id": "HlQZvSUqSEjn"
   },
   "outputs": [],
   "source": [
    "import requests\n",
    "\n",
    "url = 'https://en.wikipedia.org/wiki/Data_science'"
   ]
  },
  {
   "cell_type": "code",
   "execution_count": 2,
   "metadata": {
    "ExecuteTime": {
     "end_time": "2021-04-16T14:02:12.680077Z",
     "start_time": "2021-04-16T14:02:11.490456Z"
    },
    "id": "dHlgfatrSEjs",
    "scrolled": true
   },
   "outputs": [
    {
     "data": {
      "text/plain": [
       "b'<!DOCTYPE html>\\n<html class=\"client-nojs\" lang=\"en\" dir=\"ltr\">\\n<head>\\n<meta charset=\"UTF-8\"/>\\n<title>Data science - Wikipedia</title>\\n<script>document.documentElement.className=\"client-js\";RLCONF={\"wgBreakFrames\":!1,\"wgSeparatorTransformTable\":[\"\",\"\"],\"wgDigitTransformTable\":[\"\",\"\"],\"wgDefaultDateFormat\":\"dmy\",\"wgMonthNames\":[\"\",\"January\",\"February\",\"March\",\"April\",\"May\",\"June\",\"July\",\"August\",\"September\",\"October\",\"November\",\"December\"],\"wgRequestId\":\"dcb0e429-e537-47b5-82bf-682c113c63d1\",\"wgCSPNonce\":!1,\"wgCanonicalNamespace\":\"\",\"wgCanonicalSpecialPageName\":!1,\"wgNamespaceNumber\":0,\"wgPageName\":\"Data_science\",\"wgTitle\":\"Data science\",\"wgCurRevisionId\":1016655116,\"wgRevisionId\":1016655116,\"wgArticleId\":35458904,\"wgIsArticle\":!0,\"wgIsRedirect\":!1,\"wgAction\":\"view\",\"wgUserName\":null,\"wgUserGroups\":[\"*\"],\"wgCategories\":[\"CS1 maint: others\",\"Articles with short description\",\"Short description matches Wikidata\",\"Use dmy dates from December 2012\",\"Information science\",\"Computer occupations\",\"Computational fields of study\",\"Data analysis\"],\"wgPageContentLanguage\":\"en\",\"wgPageContentModel\":\"wikitext\",\\n\"wgRelevantPageName\":\"Data_science\",\"wgRelevantArticleId\":35458904,\"wgIsProbablyEditable\":!0,\"wgRelevantPageIsProbablyEditable\":!0,\"wgRestrictionEdit\":[],\"wgRestrictionMove\":[],\"wgFlaggedRevsParams\":{\"tags\":{\"status\":{\"levels\":-1}}},\"wgMediaViewerOnClick\":!0,\"wgMediaViewerEnabledByDefault\":!0,\"wgPopupsFlags\":10,\"wgVisualEditor\":{\"pageLanguageCode\":\"en\",\"pageLanguageDir\":\"ltr\",\"pageVariantFallbacks\":\"en\"},\"wgMFDisplayWikibaseDescriptions\":{\"search\":!0,\"nearby\":!0,\"watchlist\":!0,\"tagline\":!1},\"wgWMESchemaEditAttemptStepOversample\":!1,\"wgULSCurrentAutonym\":\"English\",\"wgNoticeProject\":\"wikipedia\",\"wgCentralAuthMobileDomain\":!1,\"wgEditSubmitButtonLabelPublish\":!0,\"wgULSPosition\":\"interlanguage\",\"wgWikibaseItemId\":\"Q2374463\"};RLSTATE={\"ext.globalCssJs.user.styles\":\"ready\",\"site.styles\":\"ready\",\"noscript\":\"ready\",\"user.styles\":\"ready\",\"ext.globalCssJs.user\":\"ready\",\"user\":\"ready\",\"user.options\":\"loading\",\"ext.cite.styles\":\"ready\",\"skins.vector.styles.legacy\":\"ready\",\\n\"jquery.makeCollapsible.styles\":\"ready\",\"ext.visualEditor.desktopArticleTarget.noscript\":\"ready\",\"ext.uls.interlanguage\":\"ready\",\"ext.wikimediaBadges\":\"ready\",\"wikibase.client.init\":\"ready\"};RLPAGEMODULES=[\"ext.cite.ux-enhancements\",\"site\",\"mediawiki.page.ready\",\"jquery.makeCollapsible\",\"mediawiki.toc\",\"skins.vector.legacy.js\",\"ext.gadget.ReferenceTooltips\",\"ext.gadget.charinsert\",\"ext.gadget.extra-toolbar-buttons\",\"ext.gadget.refToolbar\",\"ext.gadget.switcher\",\"ext.centralauth.centralautologin\",\"mmv.head\",\"mmv.bootstrap.autostart\",\"ext.popups\",\"ext.visualEditor.desktopArticleTarget.init\",\"ext.visualEditor.targetLoader\",\"ext.eventLogging\",\"ext.wikimediaEvents\",\"ext.navigationTiming\",\"ext.uls.compactlinks\",\"ext.uls.interface\",\"ext.cx.eventlogging.campaigns\",\"ext.centralNotice.geoIP\",\"ext.centralNotice.startUp\"];</script>\\n<script>(RLQ=window.RLQ||[]).push(function(){mw.loader.implement(\"user.options@1hzgi\",function($,jQuery,require,module){/*@nomin*/mw.user.tokens.set({\"patrolToken\":\"+\\\\\\\\\",\"watchToken\":\"+\\\\\\\\\",\"csrfToken\":\"+\\\\\\\\\"});\\n});});</script>\\n<link rel=\"stylesheet\" href=\"/w/load.php?lang=en&amp;modules=ext.cite.styles%7Cext.uls.interlanguage%7Cext.visualEditor.desktopArticleTarget.noscript%7Cext.wikimediaBadges%7Cjquery.makeCollapsible.styles%7Cskins.vector.styles.legacy%7Cwikibase.client.init&amp;only=styles&amp;skin=vector\"/>\\n<script async=\"\" src=\"/w/load.php?lang=en&amp;modules=startup&amp;only=scripts&amp;raw=1&amp;skin=vector\"></script>\\n<meta name=\"ResourceLoaderDynamicStyles\" content=\"\"/>\\n<link rel=\"stylesheet\" href=\"/w/load.php?lang=en&amp;modules=site.styles&amp;only=styles&amp;skin=vector\"/>\\n<meta name=\"generator\" content=\"MediaWiki 1.37.0-wmf.1\"/>\\n<meta name=\"referrer\" content=\"origin\"/>\\n<meta name=\"referrer\" content=\"origin-when-crossorigin\"/>\\n<meta name=\"referrer\" content=\"origin-when-cross-origin\"/>\\n<meta property=\"og:image\" content=\"https://upload.wikimedia.org/wikipedia/commons/thumb/4/45/PIA23792-1600x1200%281%29.jpg/1200px-PIA23792-1600x1200%281%29.jpg\"/>\\n<meta property=\"og:title\" content=\"Data science - Wikipedia\"/>\\n<meta property=\"og:type\" content=\"website\"/>\\n<link rel=\"preconnect\" href=\"//upload.wikimedia.org\"/>\\n<link rel=\"alternate\" media=\"only screen and (max-width: 720px)\" href=\"//en.m.wikipedia.org/wiki/Data_science\"/>\\n<link rel=\"alternate\" type=\"application/x-wiki\" title=\"Edit this page\" href=\"/w/index.php?title=Data_science&amp;action=edit\"/>\\n<link rel=\"edit\" title=\"Edit this page\" href=\"/w/index.php?title=Data_science&amp;action=edit\"/>\\n<link rel=\"apple-touch-icon\" href=\"/static/apple-touch/wikipedia.png\"/>\\n<link rel=\"shortcut icon\" href=\"/static/favicon/wikipedia.ico\"/>\\n<link rel=\"search\" type=\"application/opensearchdescription+xml\" href=\"/w/opensearch_desc.php\" title=\"Wikipedia (en)\"/>\\n<link rel=\"EditURI\" type=\"application/rsd+xml\" href=\"//en.wikipedia.org/w/api.php?action=rsd\"/>\\n<link rel=\"license\" href=\"//creativecommons.org/licenses/by-sa/3.0/\"/>\\n<link rel=\"canonical\" href=\"https://en.wikipedia.org/wiki/Data_science\"/>\\n<link rel=\"dns-prefetch\" href=\"//login.wikimedia.org\"/>\\n<link rel=\"dns-prefetch\" href=\"//meta.wikimedia.org\" />\\n</head>\\n<body class=\"mediawiki ltr sitedir-ltr mw-hide-empty-elt ns-0 ns-subject mw-editable page-Data_science rootpage-Data_science skin-vector action-view skin-vector-legacy\"><div id=\"mw-page-base\" class=\"noprint\"></div>\\n<div id=\"mw-head-base\" class=\"noprint\"></div>\\n<div id=\"content\" class=\"mw-body\" role=\"main\">\\n\\t<a id=\"top\"></a>\\n\\t<div id=\"siteNotice\" class=\"mw-body-content\"><!-- CentralNotice --></div>\\n\\t<div class=\"mw-indicators mw-body-content\">\\n\\t</div>\\n\\t<h1 id=\"firstHeading\" class=\"firstHeading\" >Data science</h1>\\n\\t<div id=\"bodyContent\" class=\"mw-body-content\">\\n\\t\\t<div id=\"siteSub\" class=\"noprint\">From Wikipedia, the free encyclopedia</div>\\n\\t\\t<div id=\"contentSub\"></div>\\n\\t\\t<div id=\"contentSub2\"></div>\\n\\t\\t\\n\\t\\t<div id=\"jump-to-nav\"></div>\\n\\t\\t<a class=\"mw-jump-link\" href=\"#mw-head\">Jump to navigation</a>\\n\\t\\t<a class=\"mw-jump-link\" href=\"#searchInput\">Jump to search</a>\\n\\t\\t<div id=\"mw-content-text\" lang=\"en\" dir=\"ltr\" class=\"mw-content-ltr\"><div class=\"mw-parser-output\"><div class=\"shortdescription nomobile noexcerpt noprint searchaux\" style=\"display:none\">Interdisciplinary field of study focused on deriving knowledge and insights from data</div>\\n<div role=\"note\" class=\"hatnote navigation-not-searchable\">Not to be confused with <a href=\"/wiki/Information_science\" title=\"Information science\">information science</a>.</div>\\n<p class=\"mw-empty-elt\">\\n</p>\\n<div class=\"thumb tright\"><div class=\"thumbinner\" style=\"width:252px;\"><a href=\"/wiki/File:PIA23792-1600x1200(1).jpg\" class=\"image\"><img alt=\"\" src=\"//upload.wikimedia.org/wikipedia/commons/thumb/4/45/PIA23792-1600x1200%281%29.jpg/250px-PIA23792-1600x1200%281%29.jpg\" decoding=\"async\" width=\"250\" height=\"188\" class=\"thumbimage\" srcset=\"//upload.wikimedia.org/wikipedia/commons/thumb/4/45/PIA23792-1600x1200%281%29.jpg/375px-PIA23792-1600x1200%281%29.jpg 1.5x, //upload.wikimedia.org/wikipedia/commons/thumb/4/45/PIA23792-1600x1200%281%29.jpg/500px-PIA23792-1600x1200%281%29.jpg 2x\" data-file-width=\"1600\" data-file-height=\"1200\" /></a>  <div class=\"thumbcaption\"><div class=\"magnify\"><a href=\"/wiki/File:PIA23792-1600x1200(1).jpg\" class=\"internal\" title=\"Enlarge\"></a></div>The existence of <a href=\"/wiki/Comet_NEOWISE\" title=\"Comet NEOWISE\">Comet NEOWISE</a> (here depicted as a series of red dots) was discovered by analyzing <a href=\"/wiki/Astronomical_survey\" title=\"Astronomical survey\">astronomical survey</a> data acquired by a <a href=\"/wiki/Space_telescope\" title=\"Space telescope\">space telescope</a>, the <a href=\"/wiki/Wide-field_Infrared_Survey_Explorer\" title=\"Wide-field Infrared Survey Explorer\">Wide-field Infrared Survey Explorer</a>.</div></div></div>\\n<style data-mw-deduplicate=\"TemplateStyles:r1013635363\">.mw-parser-output .sidebar{width:22em;float:right;clear:right;margin:0.5em 0 1em 1em;background:#f8f9fa;border:1px solid #aaa;padding:0.2em;border-spacing:0.4em 0;text-align:center;line-height:1.4em;font-size:88%;display:table}body.skin-minerva .mw-parser-output .sidebar{display:table!important;float:right!important;margin:0.5em 0 1em 1em!important}.mw-parser-output .sidebar a{white-space:nowrap}.mw-parser-output .sidebar-wraplinks a{white-space:normal}.mw-parser-output .sidebar-subgroup{width:100%;margin:0;border-spacing:0}.mw-parser-output .sidebar-left{float:left;clear:left;margin:0.5em 1em 1em 0}.mw-parser-output .sidebar-none{float:none;clear:both;margin:0.5em 1em 1em 0}.mw-parser-output .sidebar-outer-title{padding-bottom:0.2em;font-size:125%;line-height:1.2em;font-weight:bold}.mw-parser-output .sidebar-top-image{padding:0.4em 0}.mw-parser-output .sidebar-top-caption,.mw-parser-output .sidebar-pretitle-with-top-image,.mw-parser-output .sidebar-caption{padding-top:0.2em;line-height:1.2em}.mw-parser-output .sidebar-pretitle{padding-top:0.4em;line-height:1.2em}.mw-parser-output .sidebar-title,.mw-parser-output .sidebar-title-with-pretitle{padding:0.2em 0.4em;font-size:145%;line-height:1.2em}.mw-parser-output .sidebar-title-with-pretitle{padding-top:0}.mw-parser-output .sidebar-image{padding:0.2em 0 0.4em}.mw-parser-output .sidebar-heading{padding:0.1em}.mw-parser-output .sidebar-content{padding:0 0.1em 0.4em}.mw-parser-output .sidebar-content-with-subgroup{padding:0.1em 0 0.2em}.mw-parser-output .sidebar-above,.mw-parser-output .sidebar-below{padding:0.3em 0.4em;font-weight:bold}.mw-parser-output .sidebar-collapse .sidebar-above,.mw-parser-output .sidebar-collapse .sidebar-below{border-top:1px solid #aaa;border-bottom:1px solid #aaa}.mw-parser-output .sidebar-navbar{text-align:right;font-size:115%}.mw-parser-output .sidebar-collapse .sidebar-navbar{padding-top:0.6em}.mw-parser-output .sidebar-list-title{text-align:left;font-weight:bold;line-height:1.6em;font-size:105%}.mw-parser-"
      ]
     },
     "execution_count": 2,
     "metadata": {},
     "output_type": "execute_result"
    },
    {
     "data": {
      "text/html": [
       "<b>limit_output extension: Maximum message size of 10000 exceeded with 123538 characters</b>"
      ]
     },
     "metadata": {},
     "output_type": "display_data"
    }
   ],
   "source": [
    "response = requests.get(url, 'lxml')\n",
    "html = response.content\n",
    "html"
   ]
  },
  {
   "cell_type": "markdown",
   "metadata": {
    "id": "Ig5G0TTDSEjw"
   },
   "source": [
    "### Step 2: Use BeautifulSoup to extract a list of all the unique links on the page."
   ]
  },
  {
   "cell_type": "code",
   "execution_count": 7,
   "metadata": {
    "ExecuteTime": {
     "end_time": "2021-04-16T14:03:21.528184Z",
     "start_time": "2021-04-16T14:03:21.520205Z"
    },
    "id": "zahpf2s-SEjx"
   },
   "outputs": [],
   "source": [
    "from bs4 import BeautifulSoup"
   ]
  },
  {
   "cell_type": "code",
   "execution_count": 8,
   "metadata": {
    "ExecuteTime": {
     "end_time": "2021-04-16T14:03:22.310824Z",
     "start_time": "2021-04-16T14:03:22.061808Z"
    },
    "id": "VfmrZsypSEj0",
    "scrolled": true
   },
   "outputs": [
    {
     "data": {
      "text/plain": [
       "['/wiki/Information_science',\n",
       " '/wiki/File:PIA23792-1600x1200(1).jpg',\n",
       " '/wiki/File:PIA23792-1600x1200(1).jpg',\n",
       " '/wiki/Comet_NEOWISE',\n",
       " '/wiki/Astronomical_survey',\n",
       " '/wiki/Space_telescope',\n",
       " '/wiki/Wide-field_Infrared_Survey_Explorer',\n",
       " '/wiki/Machine_learning',\n",
       " '/wiki/Data_mining',\n",
       " '/wiki/File:Multi-Layer_Neural_Network-Vector-Blank.svg',\n",
       " '/wiki/Statistical_classification',\n",
       " '/wiki/Cluster_analysis',\n",
       " '/wiki/Regression_analysis',\n",
       " '/wiki/Anomaly_detection',\n",
       " '/wiki/Automated_machine_learning',\n",
       " '/wiki/Association_rule_learning',\n",
       " '/wiki/Reinforcement_learning',\n",
       " '/wiki/Structured_prediction',\n",
       " '/wiki/Feature_engineering',\n",
       " '/wiki/Feature_learning',\n",
       " '/wiki/Online_machine_learning',\n",
       " '/wiki/Semi-supervised_learning',\n",
       " '/wiki/Unsupervised_learning',\n",
       " '/wiki/Learning_to_rank',\n",
       " '/wiki/Grammar_induction',\n",
       " '/wiki/Supervised_learning',\n",
       " '/wiki/Statistical_classification',\n",
       " '/wiki/Regression_analysis',\n",
       " '/wiki/Decision_tree_learning',\n",
       " '/wiki/Ensemble_learning',\n",
       " '/wiki/Bootstrap_aggregating',\n",
       " '/wiki/Boosting_(machine_learning)',\n",
       " '/wiki/Random_forest',\n",
       " '/wiki/K-nearest_neighbors_algorithm',\n",
       " '/wiki/Linear_regression',\n",
       " '/wiki/Naive_Bayes_classifier',\n",
       " '/wiki/Artificial_neural_network',\n",
       " '/wiki/Logistic_regression',\n",
       " '/wiki/Perceptron',\n",
       " '/wiki/Relevance_vector_machine',\n",
       " '/wiki/Support-vector_machine',\n",
       " '/wiki/Cluster_analysis',\n",
       " '/wiki/BIRCH',\n",
       " '/wiki/CURE_data_clustering_algorithm',\n",
       " '/wiki/Hierarchical_clustering',\n",
       " '/wiki/K-means_clustering',\n",
       " '/wiki/Expectation%E2%80%93maximization_algorithm',\n",
       " '/wiki/DBSCAN',\n",
       " '/wiki/OPTICS_algorithm',\n",
       " '/wiki/Mean-shift',\n",
       " '/wiki/Dimensionality_reduction',\n",
       " '/wiki/Factor_analysis',\n",
       " '/wiki/Canonical_correlation',\n",
       " '/wiki/Independent_component_analysis',\n",
       " '/wiki/Linear_discriminant_analysis',\n",
       " '/wiki/Non-negative_matrix_factorization',\n",
       " '/wiki/Principal_component_analysis',\n",
       " '/wiki/Proper_generalized_decomposition',\n",
       " '/wiki/T-distributed_stochastic_neighbor_embedding',\n",
       " '/wiki/Structured_prediction',\n",
       " '/wiki/Graphical_model',\n",
       " '/wiki/Bayesian_network',\n",
       " '/wiki/Conditional_random_field',\n",
       " '/wiki/Hidden_Markov_model',\n",
       " '/wiki/Anomaly_detection',\n",
       " '/wiki/K-nearest_neighbors_classification',\n",
       " '/wiki/Local_outlier_factor',\n",
       " '/wiki/Artificial_neural_network',\n",
       " '/wiki/Autoencoder',\n",
       " '/wiki/Cognitive_computing',\n",
       " '/wiki/Deep_learning',\n",
       " '/wiki/DeepDream',\n",
       " '/wiki/Multilayer_perceptron',\n",
       " '/wiki/Recurrent_neural_network',\n",
       " '/wiki/Long_short-term_memory',\n",
       " '/wiki/Gated_recurrent_unit',\n",
       " '/wiki/Echo_state_network',\n",
       " '/wiki/Restricted_Boltzmann_machine',\n",
       " '/wiki/Generative_adversarial_network',\n",
       " '/wiki/Self-organizing_map',\n",
       " '/wiki/Convolutional_neural_network',\n",
       " '/wiki/U-Net',\n",
       " '/wiki/Transformer_(machine_learning_model)',\n",
       " '/wiki/Spiking_neural_network',\n",
       " '/wiki/Memtransistor',\n",
       " '/wiki/Electrochemical_RAM',\n",
       " '/wiki/Reinforcement_learning',\n",
       " '/wiki/Q-learning',\n",
       " '/wiki/State%E2%80%93action%E2%80%93reward%E2%80%93state%E2%80%93action',\n",
       " '/wiki/Temporal_difference_learning',\n",
       " '/wiki/Bias%E2%80%93variance_tradeoff',\n",
       " '/wiki/Computational_learning_theory',\n",
       " '/wiki/Empirical_risk_minimization',\n",
       " '/wiki/Occam_learning',\n",
       " '/wiki/Probably_approximately_correct_learning',\n",
       " '/wiki/Statistical_learning_theory',\n",
       " '/wiki/Vapnik%E2%80%93Chervonenkis_theory',\n",
       " '/wiki/Conference_on_Neural_Information_Processing_Systems',\n",
       " '/wiki/International_Conference_on_Machine_Learning',\n",
       " '/wiki/Machine_Learning_(journal)',\n",
       " '/wiki/Journal_of_Machine_Learning_Research',\n",
       " 'https://arxiv.org/list/cs.LG/recent',\n",
       " '/wiki/Glossary_of_artificial_intelligence',\n",
       " '/wiki/List_of_datasets_for_machine-learning_research',\n",
       " '/wiki/Outline_of_machine_learning',\n",
       " '/wiki/Template:Machine_learning_bar',\n",
       " '/wiki/Template_talk:Machine_learning_bar',\n",
       " 'https://en.wikipedia.org/w/index.php?title=Template:Machine_learning_bar&action=edit',\n",
       " '/wiki/Interdisciplinarity',\n",
       " '/wiki/Knowledge',\n",
       " '/wiki/Unstructured_data',\n",
       " '/wiki/Data_mining',\n",
       " '/wiki/Machine_learning',\n",
       " '/wiki/Big_data',\n",
       " '/wiki/Statistics',\n",
       " '/wiki/Data_analysis',\n",
       " '/wiki/Informatics',\n",
       " '/wiki/Mathematics',\n",
       " '/wiki/Statistics',\n",
       " '/wiki/Computer_science',\n",
       " '/wiki/Information_science',\n",
       " '/wiki/Domain_knowledge',\n",
       " '/wiki/Turing_Award',\n",
       " '/wiki/Jim_Gray_(computer_scientist)',\n",
       " '/wiki/Empirical_research',\n",
       " '/wiki/Basic_research',\n",
       " '/wiki/Computational_science',\n",
       " '/wiki/Information_technology',\n",
       " '/wiki/Information_explosion',\n",
       " '/wiki/Big_data',\n",
       " '/wiki/Information_visualization',\n",
       " '/wiki/Complex_systems',\n",
       " '/wiki/Communication',\n",
       " '/wiki/Nathan_Yau',\n",
       " '/wiki/Ben_Fry',\n",
       " '/wiki/Human%E2%80%93computer_interaction',\n",
       " '/wiki/American_Statistical_Association',\n",
       " '/wiki/Database',\n",
       " '/wiki/Machine_learning',\n",
       " '/wiki/Distributed_computing',\n",
       " '/wiki/Nate_Silver',\n",
       " '/wiki/Vasant_Dhar',\n",
       " '/wiki/Andrew_Gelman',\n",
       " '/wiki/Columbia_University',\n",
       " '/wiki/David_Donoho',\n",
       " '/wiki/John_Tukey',\n",
       " '/wiki/C.F._Jeff_Wu',\n",
       " '/wiki/Data_Science',\n",
       " '/wiki/Montpellier_2_University',\n",
       " '/wiki/Peter_Naur',\n",
       " '/wiki/C.F._Jeff_Wu',\n",
       " 'https://www.wikidata.org/wiki/Q2963551',\n",
       " '/wiki/William_S._Cleveland',\n",
       " '/wiki/Committee_on_Data_for_Science_and_Technology',\n",
       " '/wiki/American_Statistical_Association',\n",
       " '/wiki/DJ_Patil',\n",
       " '/wiki/Jeff_Hammerbacher',\n",
       " '/wiki/National_Science_Board',\n",
       " '/wiki/Statistics#Methods',\n",
       " '/wiki/Linear_regression',\n",
       " '/wiki/Logistic_regression',\n",
       " '/wiki/Decision_tree',\n",
       " '/wiki/Support_vector_machine',\n",
       " '/wiki/Cluster_analysis',\n",
       " '/wiki/Dimensionality_reduction',\n",
       " '/wiki/Machine_learning',\n",
       " '/wiki/Doi_(identifier)',\n",
       " 'https://doi.org/10.1145%2F2500499',\n",
       " '/wiki/S2CID_(identifier)',\n",
       " 'https://api.semanticscholar.org/CorpusID:6107147',\n",
       " 'https://web.archive.org/web/20141109113411/http://cacm.acm.org/magazines/2013/12/169933-data-science-and-prediction/fulltext',\n",
       " '/wiki/Jeffrey_T._Leek',\n",
       " 'https://web.archive.org/web/20140102194117/http://simplystatistics.org/2013/12/12/the-key-word-in-data-science-is-not-data-it-is-science/',\n",
       " 'https://www.springer.com/book/9784431702085',\n",
       " '/wiki/Doi_(identifier)',\n",
       " 'https://doi.org/10.1007%2F978-4-431-65950-1_3',\n",
       " '/wiki/ISBN_(identifier)',\n",
       " '/wiki/Special:BookSources/9784431702085',\n",
       " 'https://books.google.com/books?id=oGs_AQAAIAAJ',\n",
       " '/wiki/ISBN_(identifier)',\n",
       " '/wiki/Special:BookSources/978-0-9825442-0-4',\n",
       " 'https://web.archive.org/web/20170320193019/https://books.google.com/books?id=oGs_AQAAIAAJ',\n",
       " '/wiki/Doi_(identifier)',\n",
       " 'https://doi.org/10.1126%2Fscience.1170411',\n",
       " '/wiki/ISSN_(identifier)',\n",
       " '/wiki/PMID_(identifier)',\n",
       " '/wiki/S2CID_(identifier)',\n",
       " 'https://api.semanticscholar.org/CorpusID:9743327',\n",
       " 'https://www.oreilly.com/library/view/doing-data-science/9781449363871/ch01.html',\n",
       " 'https://medriscoll.com/post/4740157098/the-three-sexy-skills-of-data-geeks',\n",
       " 'https://flowingdata.com/2009/06/04/rise-of-the-data-scientist/',\n",
       " 'https://benfry.com/phd/dissertation/2.html',\n",
       " 'https://magazine.amstat.org/blog/2015/10/01/asa-statement-on-the-role-of-statistics-in-data-science/',\n",
       " '/wiki/American_Statistical_Association',\n",
       " 'https://web.archive.org/web/20190620184935/https://magazine.amstat.org/blog/2015/10/01/asa-statement-on-the-role-of-statistics-in-data-science/',\n",
       " 'https://www.statisticsviews.com/article/nate-silver-what-i-need-from-statisticians/',\n",
       " '/wiki/Doi_(identifier)',\n",
       " 'https://doi.org/10.1145%2F2500499',\n",
       " '/wiki/S2CID_(identifier)',\n",
       " 'https://api.semanticscholar.org/CorpusID:6107147',\n",
       " 'https://statmodeling.stat.columbia.edu/2013/11/14/statistics-least-important-part-data-science/',\n",
       " 'https://www.datasciencecentral.com/profiles/blogs/data-science-without-statistics-is-possible-even-desirable',\n",
       " 'https://www2.isye.gatech.edu/~jeffwu/publications/fazhan.pdf',\n",
       " '/wiki/ISBN_(identifier)',\n",
       " '/wiki/Special:BookSources/0-12-241770-4',\n",
       " '/wiki/OCLC_(identifier)',\n",
       " '/wiki/Category:CS1_maint:_others',\n",
       " 'https://www.mdpi.com/2504-2289/2/2/14',\n",
       " '/wiki/Doi_(identifier)',\n",
       " 'https://doi.org/10.3390%2Fbdcc2020014',\n",
       " 'https://doi.org/10.1145%2F3076253',\n",
       " '/wiki/Doi_(identifier)',\n",
       " 'https://doi.org/10.1145%2F3076253',\n",
       " 'https://www.forbes.com/sites/gilpress/2013/05/28/a-very-short-history-of-data-science/',\n",
       " 'https://www.stat.purdue.edu/~wsc/',\n",
       " 'https://magazine.amstat.org/blog/2016/06/01/datascience-2/',\n",
       " 'https://hbr.org/2012/10/data-scientist-the-sexiest-job-of-the-21st-century',\n",
       " '/wiki/ISSN_(identifier)',\n",
       " 'https://www.nsf.gov/pubs/2005/nsb0540/',\n",
       " 'https://www.forbes.com/sites/gilpress/2013/08/19/data-science-whats-the-half-life-of-a-buzzword/',\n",
       " 'https://www.forbes.com/sites/peterpham/2015/08/28/the-impacts-of-big-data-that-you-may-not-have-heard-of/',\n",
       " 'https://towardsdatascience.com/how-data-science-will-impact-future-of-businesses-7f11f5699c4d',\n",
       " '/wiki/Template:Data',\n",
       " '/wiki/Template_talk:Data',\n",
       " 'https://en.wikipedia.org/w/index.php?title=Template:Data&action=edit',\n",
       " '/wiki/Data_(computing)',\n",
       " '/wiki/Data_augmentation',\n",
       " '/wiki/Data_analysis',\n",
       " '/wiki/Data_archaeology',\n",
       " '/wiki/Data_cleansing',\n",
       " '/wiki/Data_collection',\n",
       " '/wiki/Data_compression',\n",
       " '/wiki/Data_corruption',\n",
       " '/wiki/Data_curation',\n",
       " '/wiki/Data_degradation',\n",
       " '/wiki/Data_editing',\n",
       " '/wiki/Extract,_transform,_load',\n",
       " '/wiki/Data_extraction',\n",
       " '/wiki/Data_transformation',\n",
       " '/wiki/Data_loading',\n",
       " '/wiki/Data_farming',\n",
       " '/wiki/Data_format_management',\n",
       " '/wiki/Data_fusion',\n",
       " '/wiki/Data_integration',\n",
       " '/wiki/Data_integrity',\n",
       " '/wiki/Data_library',\n",
       " '/wiki/Data_loss',\n",
       " '/wiki/Data_management',\n",
       " '/wiki/Data_migration',\n",
       " '/wiki/Data_mining',\n",
       " '/wiki/Data_pre-processing',\n",
       " '/wiki/Data_preservation',\n",
       " '/wiki/Information_privacy',\n",
       " '/wiki/Data_recovery',\n",
       " '/wiki/Data_reduction',\n",
       " '/wiki/Data_retention',\n",
       " '/wiki/Data_quality',\n",
       " '/wiki/Data_scraping',\n",
       " '/wiki/Data_scrubbing',\n",
       " '/wiki/Data_security',\n",
       " '/wiki/Data_steward',\n",
       " '/wiki/Data_storage',\n",
       " '/wiki/Data_validation',\n",
       " '/wiki/Data_warehouse',\n",
       " '/wiki/Data_wrangling',\n",
       " 'https://en.wikipedia.org/w/index.php?title=Data_science&oldid=1016655116',\n",
       " '/wiki/Help:Category',\n",
       " '/wiki/Category:Information_science',\n",
       " '/wiki/Category:Computer_occupations',\n",
       " '/wiki/Category:Computational_fields_of_study',\n",
       " '/wiki/Category:Data_analysis',\n",
       " '/wiki/Category:CS1"
      ]
     },
     "execution_count": 8,
     "metadata": {},
     "output_type": "execute_result"
    },
    {
     "data": {
      "text/html": [
       "<b>limit_output extension: Maximum message size of 10000 exceeded with 14956 characters</b>"
      ]
     },
     "metadata": {},
     "output_type": "display_data"
    }
   ],
   "source": [
    "soup = BeautifulSoup(html)\n",
    "x = soup.find_all('a')\n",
    "y = []\n",
    "for i in x:\n",
    "    if 'href' in i.attrs:\n",
    "        if i['href'].startswith('/wiki') or  i['href'].startswith('https') == True:\n",
    "            y.append(i.get('href'))\n",
    "y"
   ]
  },
  {
   "cell_type": "markdown",
   "metadata": {
    "id": "i7TXSNXCSEj3"
   },
   "source": [
    "### Step 3: Use list comprehensions with conditions to clean the link list.\n",
    "\n",
    "There are two types of links, absolute and relative. Absolute links have the full URL and begin with *http* while relative links begin with a forward slash (/) and point to an internal page within the *wikipedia.org* domain. Clean the respective types of URLs as follows.\n",
    "\n",
    "- Absolute Links: Create a list of these and remove any that contain a percentage sign (%).\n",
    "- Relative Links: Create a list of these, add the domain to the link so that you have the full URL, and remove any that contain a percentage sign (%).\n",
    "- Combine the list of absolute and relative links and ensure there are no duplicates."
   ]
  },
  {
   "cell_type": "code",
   "execution_count": 9,
   "metadata": {
    "ExecuteTime": {
     "end_time": "2021-04-16T14:03:34.001271Z",
     "start_time": "2021-04-16T14:03:33.995290Z"
    },
    "id": "1ZqaDQ4gSEj4"
   },
   "outputs": [],
   "source": [
    "domain = 'http://wikipedia.org'"
   ]
  },
  {
   "cell_type": "code",
   "execution_count": 10,
   "metadata": {
    "ExecuteTime": {
     "end_time": "2021-04-16T14:03:42.297210Z",
     "start_time": "2021-04-16T14:03:42.275273Z"
    },
    "id": "mHDkpTrISEj7"
   },
   "outputs": [],
   "source": [
    "absolute = []\n",
    "relative = []\n",
    "for i in y:\n",
    "    if i.startswith('https'):\n",
    "        if '%' not in i:\n",
    "            absolute.append(i)\n",
    "    else:\n",
    "        if '%' not in i:\n",
    "            relative.append(f'{domain}{i}')"
   ]
  },
  {
   "cell_type": "code",
   "execution_count": 12,
   "metadata": {
    "ExecuteTime": {
     "end_time": "2021-04-16T14:03:59.724460Z",
     "start_time": "2021-04-16T14:03:59.670639Z"
    }
   },
   "outputs": [
    {
     "data": {
      "text/plain": [
       "['https://www.stat.purdue.edu/~wsc/',\n",
       " 'https://stats.wikimedia.org/#/en.wikipedia.org',\n",
       " 'http://wikipedia.org/wiki/Portal:Current_events',\n",
       " 'http://wikipedia.org/wiki/Perceptron',\n",
       " 'http://wikipedia.org/wiki/Online_machine_learning',\n",
       " 'http://wikipedia.org/wiki/List_of_datasets_for_machine-learning_research',\n",
       " 'http://wikipedia.org/wiki/Mathematics',\n",
       " 'http://wikipedia.org/wiki/Gated_recurrent_unit',\n",
       " 'http://wikipedia.org/wiki/Peter_Naur',\n",
       " 'http://wikipedia.org/wiki/Journal_of_Machine_Learning_Research',\n",
       " 'http://wikipedia.org/wiki/Basic_research',\n",
       " 'http://wikipedia.org/wiki/Supervised_learning',\n",
       " 'http://wikipedia.org/wiki/Reinforcement_learning',\n",
       " 'http://wikipedia.org/wiki/Special:BookSources/978-0-9825442-0-4',\n",
       " 'http://wikipedia.org/wiki/Data_(computing)',\n",
       " 'http://wikipedia.org/wiki/Informatics',\n",
       " 'http://wikipedia.org/wiki/Data_archaeology',\n",
       " 'http://wikipedia.org/wiki/Data_degradation',\n",
       " 'http://wikipedia.org/wiki/Wikipedia:Contents',\n",
       " 'http://wikipedia.org/wiki/Automated_machine_learning',\n",
       " 'http://wikipedia.org/wiki/Electrochemical_RAM',\n",
       " 'http://wikipedia.org/wiki/Probably_approximately_correct_learning',\n",
       " 'https://www.forbes.com/sites/gilpress/2013/05/28/a-very-short-history-of-data-science/',\n",
       " 'http://wikipedia.org/wiki/Non-negative_matrix_factorization',\n",
       " 'http://wikipedia.org/wiki/Special:SpecialPages',\n",
       " 'http://wikipedia.org/wiki/Database',\n",
       " 'http://wikipedia.org/wiki/Special:BookSources/9784431702085',\n",
       " 'https://es.wikipedia.org/wiki/Ciencia_de_datos',\n",
       " 'http://wikipedia.org/wiki/Structured_prediction',\n",
       " 'http://wikipedia.org/wiki/Jeff_Hammerbacher',\n",
       " 'http://wikipedia.org/wiki/Nate_Silver',\n",
       " 'https://web.archive.org/web/20141109113411/http://cacm.acm.org/magazines/2013/12/169933-data-science-and-prediction/fulltext',\n",
       " 'https://tr.wikipedia.org/wiki/Veri_bilimi',\n",
       " 'http://wikipedia.org/wiki/T-distributed_stochastic_neighbor_embedding',\n",
       " 'http://wikipedia.org/wiki/DJ_Patil',\n",
       " 'http://wikipedia.org/wiki/Nathan_Yau',\n",
       " 'http://wikipedia.org/wiki/Association_rule_learning',\n",
       " 'http://wikipedia.org/wiki/File:PIA23792-1600x1200(1).jpg',\n",
       " 'https://flowingdata.com/2009/06/04/rise-of-the-data-scientist/',\n",
       " 'http://wikipedia.org/wiki/Data_integration',\n",
       " 'https://www.mediawiki.org/',\n",
       " 'http://wikipedia.org/wiki/Cluster_analysis',\n",
       " 'http://wikipedia.org/wiki/Statistics#Methods',\n",
       " 'http://wikipedia.org/wiki/Information_privacy',\n",
       " 'https://foundation.wikimedia.org/wiki/Privacy_policy',\n",
       " 'https://www.oreilly.com/library/view/doing-data-science/9781449363871/ch01.html',\n",
       " 'http://wikipedia.org/wiki/Linear_regression',\n",
       " 'http://wikipedia.org/wiki/Special:MyContributions',\n",
       " 'http://wikipedia.org/wiki/Computational_learning_theory',\n",
       " 'http://wikipedia.org/wiki/Deep_learning',\n",
       " 'http://wikipedia.org/wiki/Data_editing',\n",
       " 'http://wikipedia.org/wiki/Occam_learning',\n",
       " 'https://www.nsf.gov/pubs/2005/nsb0540/',\n",
       " 'http://wikipedia.org/wiki/Statistics',\n",
       " 'http://wikipedia.org/wiki/Category:Computational_fields_of_study',\n",
       " 'http://wikipedia.org/wiki/Independent_component_analysis',\n",
       " 'https://magazine.amstat.org/blog/2015/10/01/asa-statement-on-the-role-of-statistics-in-data-science/',\n",
       " 'http://wikipedia.org/wiki/Q-learning',\n",
       " 'http://wikipedia.org/wiki/Interdisciplinarity',\n",
       " 'http://wikipedia.org/wiki/Turing_Award',\n",
       " 'http://wikipedia.org/wiki/Data_retention',\n",
       " 'https://de.wikipedia.org/wiki/Data_Science',\n",
       " 'http://wikipedia.org/wiki/Autoencoder',\n",
       " 'https://api.semanticscholar.org/CorpusID:9743327',\n",
       " 'http://wikipedia.org/wiki/Domain_knowledge',\n",
       " 'https://books.google.com/books?id=oGs_AQAAIAAJ',\n",
       " 'http://wikipedia.org/wiki/Empirical_research',\n",
       " 'http://wikipedia.org/wiki/Convolutional_neural_network',\n",
       " 'http://wikipedia.org/wiki/Montpellier_2_University',\n",
       " 'http://wikipedia.org/wiki/Big_data',\n",
       " 'http://wikipedia.org/wiki/Category:Computer_occupations',\n",
       " 'http://wikipedia.org/wiki/Echo_state_network',\n",
       " 'http://wikipedia.org/wiki/Help:Introduction',\n",
       " 'http://wikipedia.org/wiki/K-nearest_neighbors_algorithm',\n",
       " 'http://wikipedia.org/wiki/Temporal_difference_learning',\n",
       " 'http://wikipedia.org/wiki/Jeffrey_T._Leek',\n",
       " 'https://medriscoll.com/post/4740157098/the-three-sexy-skills-of-data-geeks',\n",
       " 'http://wikipedia.org/wiki/Statistical_learning_theory',\n",
       " 'http://wikipedia.org/wiki/Data_compression',\n",
       " 'https://web.archive.org/web/20190620184935/https://magazine.amstat.org/blog/2015/10/01/asa-statement-on-the-role-of-statistics-in-data-science/',\n",
       " 'http://wikipedia.org/wiki/Machine_learning',\n",
       " 'https://fi.wikipedia.org/wiki/Datatiede',\n",
       " 'http://wikipedia.org/wiki/Conditional_random_field',\n",
       " 'https://web.archive.org/web/20170320193019/https://books.google.com/books?id=oGs_AQAAIAAJ',\n",
       " 'http://wikipedia.org/wiki/Data_Science',\n",
       " 'http://wikipedia.org/wiki/Decision_tree_learning',\n",
       " 'https://hbr.org/2012/10/data-scientist-the-sexiest-job-of-the-21st-century',\n",
       " 'https://www.wikidata.org/wiki/Special:EntityPage/Q2374463',\n",
       " 'http://wikipedia.org/wiki/Data_fusion',\n",
       " 'http://wikipedia.org/wiki/Information_explosion',\n",
       " 'https://cs.wikipedia.org/wiki/Data_science',\n",
       " 'http://wikipedia.org/wiki/File:Multi-Layer_Neural_Network-Vector-Blank.svg',\n",
       " 'http://wikipedia.org/wiki/Complex_systems',\n",
       " 'http://wikipedia.org/wiki/Distributed_computing',\n",
       " 'http://wikipedia.org/wiki/Special:RecentChanges',\n",
       " 'http://wikipedia.org/wiki/Multilayer_perceptron',\n",
       " 'http://wikipedia.org/wiki/Empirical_risk_minimization',\n",
       " 'http://wikipedia.org/wiki/PMID_(identifier)',\n",
       " 'http://wikipedia.org/wiki/Data_quality',\n",
       " 'http://wikipedia.org/wiki/Data_extraction',\n",
       " 'https://www.wikidata.org/wiki/Special:EntityPage/Q2374463#sitelinks-wikipedia',\n",
       " 'http://wikipedia.org/wiki/Recurrent_neural_network',\n",
       " 'https://www.wikidata.org/wiki/Q2963551',\n",
       " 'http://wikipedia.org/wiki/Data_loading',\n",
       " 'https://en.wikipedia.org/w/index.php?title=Template:Machine_learning_bar&action=edit',\n",
       " 'http://wikipedia.org/wiki/Computer_science',\n",
       " 'http://wikipedia.org/wiki/Graphical_model',\n",
       " 'http://wikipedia.org/wiki/Outline_of_machine_learning',\n",
       " 'http://wikipedia.org/wiki/Statistical_classification',\n",
       " 'http://wikipedia.org/wiki/Template:Machine_learning_bar',\n",
       " 'http://wikipedia.org/wiki/Information_science',\n",
       " 'http://wikipedia.org/wiki/Grammar_induction',\n",
       " 'http://wikipedia.org/wiki/Data_validation',\n",
       " 'http://wikipedia.org/wiki/Talk:Data_science',\n",
       " 'http://wikipedia.org/wiki/Astronomical_survey',\n",
       " 'http://wikipedia.org/wiki/Data_scraping',\n",
       " 'http://wikipedia.org/wiki/Data_management',\n",
       " 'http://wikipedia.org/wiki/DBSCAN',\n",
       " 'http://wikipedia.org/wiki/Template_talk:Machine_learning_bar',\n",
       " 'http://wikipedia.org/wiki/U-Net',\n",
       " 'http://wikipedia.org/wiki/Data_augmentation',\n",
       " 'http://wikipedia.org/wiki/Special:Random',\n",
       " 'http://wikipedia.org/wiki/David_Donoho',\n",
       " 'http://wikipedia.org/wiki/Wide-field_Infrared_Survey_Explorer',\n",
       " 'http://wikipedia.org/wiki/American_Statistical_Association',\n",
       " 'http://wikipedia.org/wiki/Extract,_transform,_load',\n",
       " 'http://wikipedia.org/wiki/Feature_learning',\n",
       " 'https://nl.wikipedia.org/wiki/Datawetenschap',\n",
       " 'http://wikipedia.org/wiki/ISSN_(identifier)',\n",
       " 'https://benfry.com/phd/dissertation/2.html',\n",
       " 'http://wikipedia.org/wiki/Principal_component_analysis',\n",
       " 'http://wikipedia.org/wiki/Computational_science',\n",
       " 'https://magazine.amstat.org/blog/2016/06/01/datascience-2/',\n",
       " 'http://wikipedia.org/wiki/Data_loss',\n",
       " 'http://wikipedia.org/wiki/Special:WhatLinksHere/Data_science',\n",
       " 'http://wikipedia.org/wiki/Category:Articles_with_short_description',\n",
       " 'http://wikipedia.org/wiki/Vasant_Dhar',\n",
       " 'http://wikipedia.org/wiki/Data_pre-processing',\n",
       " 'http://wikipedia.org/wiki/Support-vector_machine',\n",
       " 'http://wikipedia.org/wiki/BIRCH',\n",
       " 'http://wikipedia.org/wiki/Andrew_Gelman',\n",
       " 'http://wikipedia.org/wiki/Conference_on_Neural_Information_Processing_Systems',\n",
       " 'http://wikipedia.org/wiki/C.F._Jeff_Wu',\n",
       " 'https://wikimediafoundation.org/',\n",
       " 'http://wikipedia.org/wiki/Wikipedia:File_Upload_Wizard',\n",
       " 'https://web.archive.org/web/20140102194117/http://simplystatistics.org/2013/12/12/the-key-word-in-data-science-is-not-data-it-is-science/',\n",
       " 'http://wikipedia.org/wiki/Data_steward',\n",
       " 'http://wikipedia.org/wiki/Unsupervised_learning',\n",
       " 'http://wikipedia.org/wiki/Jim_Gray_(computer_scientist)',\n",
       " 'http://wikipedia.org/wiki/Bootstrap_aggregating',\n",
       " 'http://wikipedia.org/wiki/Data_security',\n",
       " 'http://wikipedia.org/wiki/Memtransistor',\n",
       " 'http://wikipedia.org/wiki/Regression_analysis',\n",
       " 'http://wikipedia.org/wiki/Data_farming',\n",
       " 'http://wikipedia.org/wiki/Data_migration',\n",
       " 'http://wikipedia.org/wiki/John_Tukey',\n",
       " 'https://www.statisticsviews.com/article/nate-silver-what-i-need-from-statisticians/',\n",
       " 'http://wikipedia.org/wiki/Category:Short_description_matches_Wikidata',\n",
       " 'https://foundation.wikimedia.org/wiki/Cookie_statement',\n",
       " 'http://wikipedia.org/wiki/Mean-shift',\n",
       " 'http://wikipedia.org/wiki/Data_corruption',\n",
       " 'http://wikipedia.org/wiki/Category:Information_science',\n",
       " 'http://wikipedia.org/wiki/Data_reduction',\n",
       " 'http://wikipedia.org/wiki/Spiking_neural_network',\n",
       " 'http://wikipedia.org/wiki/Data_recovery',\n",
       " 'http://wikipedia.org/wiki/Local_outlier_factor',\n",
       " 'http://wikipedia.org/wiki/Boosting_(machine_learning)',\n",
       " 'http://wikipedia.org/wiki/Data_warehouse',\n",
       " 'http://wikipedia.org/wiki/Data_analysis',\n",
       " 'https://www.forbes.com/sites/gilpress/2013/08/19/data-science-whats-the-half-life-of-a-buzzword/',\n",
       " 'http://wikipedia.org/wiki/William_S._Cleveland',\n",
       " 'https://statmodeling.stat.columbia.edu/2013/11/14/statistics-least-important-part-data-science/',\n",
       " 'https://www2.isye.gatech.edu/~jeffwu/publications/fazhan.pdf',\n",
       " 'https://www.datasciencecentral.com/profiles/blogs/data-science-without-statistics-is-possible-even-desirable',\n",
       " 'http://wikipedia.org/wiki/Dimensionality_reduction',\n",
       " 'http://wikipedia.org/wiki/Special:MyTalk',\n",
       " 'http://wikipedia.org/wiki/Bayesian_network',\n",
       " 'http://wikipedia.org/wiki/Data_storage',\n",
       " 'http://wikipedia.org/wiki/ISBN_(identifier)',\n",
       " 'http://wikipedia.org/wiki/Template:Data',\n",
       " 'http://wikipedia.org/wiki/Data_preservation',\n",
       " 'https://api.semanticscholar.org/CorpusID:6107147',\n",
       " 'http"
      ]
     },
     "execution_count": 12,
     "metadata": {},
     "output_type": "execute_result"
    },
    {
     "data": {
      "text/html": [
       "<b>limit_output extension: Maximum message size of 10000 exceeded with 14667 characters</b>"
      ]
     },
     "metadata": {},
     "output_type": "display_data"
    }
   ],
   "source": [
    "total = []\n",
    "for i in relative:\n",
    "    absolute.append(i)\n",
    "    for x in absolute:\n",
    "        total.append(x)\n",
    "final = list(set(total))\n",
    "final"
   ]
  },
  {
   "cell_type": "markdown",
   "metadata": {
    "id": "liPZ-FYLSEkA"
   },
   "source": [
    "### Step 4: Use the os library to create a folder called *wikipedia* and make that the current working directory."
   ]
  },
  {
   "cell_type": "code",
   "execution_count": 11,
   "metadata": {
    "ExecuteTime": {
     "end_time": "2021-04-16T14:03:47.242532Z",
     "start_time": "2021-04-16T14:03:47.227576Z"
    },
    "id": "S5I-1EAcSEkA"
   },
   "outputs": [],
   "source": [
    "import os"
   ]
  },
  {
   "cell_type": "code",
   "execution_count": 13,
   "metadata": {
    "ExecuteTime": {
     "end_time": "2021-04-16T14:04:22.258840Z",
     "start_time": "2021-04-16T14:04:22.189980Z"
    },
    "id": "jErdx2cdSEkD"
   },
   "outputs": [],
   "source": [
    "directory = 'wikipedia1'\n",
    "parent_dir = '/Users/eduar/downloads'\n",
    "path = os.path.join(parent_dir, directory)\n",
    "os.mkdir(path)"
   ]
  },
  {
   "cell_type": "code",
   "execution_count": 15,
   "metadata": {
    "ExecuteTime": {
     "end_time": "2021-04-16T14:04:33.713812Z",
     "start_time": "2021-04-16T14:04:33.707824Z"
    }
   },
   "outputs": [],
   "source": [
    "os.chdir(path)"
   ]
  },
  {
   "cell_type": "markdown",
   "metadata": {
    "id": "qyDm2n-rSEkG"
   },
   "source": [
    "### Step 5: Write a function called index_page that accepts a link and does the following.\n",
    "\n",
    "- Tries to request the content of the page referenced by that link.\n",
    "- Slugifies the filename using the `slugify` function from the [python-slugify](https://pypi.org/project/python-slugify/) library and adds a .html file extension.\n",
    "    - If you don't already have the python-slugify library installed, you can pip install it as follows: `$ pip3 install python-slugify`.\n",
    "    - To import the slugify function, you would do the following: `from slugify import slugify`.\n",
    "    - You can then slugify a link as follows `slugify(link)`.\n",
    "- Creates a file in the wikipedia folder using the slugified filename and writes the contents of the page to the file.\n",
    "- If an exception occurs during the process above, just `pass`."
   ]
  },
  {
   "cell_type": "code",
   "execution_count": 16,
   "metadata": {
    "ExecuteTime": {
     "end_time": "2021-04-16T14:04:35.260474Z",
     "start_time": "2021-04-16T14:04:35.131298Z"
    },
    "id": "cTzUHCpBSEkH"
   },
   "outputs": [],
   "source": [
    "from slugify import slugify"
   ]
  },
  {
   "cell_type": "code",
   "execution_count": 41,
   "metadata": {
    "ExecuteTime": {
     "end_time": "2021-04-16T14:29:20.939944Z",
     "start_time": "2021-04-16T14:29:20.065925Z"
    },
    "id": "Mm7-pzw4SEkK"
   },
   "outputs": [],
   "source": [
    "url = 'https://en.wikipedia.org/wiki/Data_science'\n",
    "def index_page(x):\n",
    "    import requests\n",
    "    from slugify import slugify\n",
    "    s = requests.session()\n",
    "    response = s.get(x, headers={'Cache-Control': 'no-cache', \"Pragma\": \"no-cache\"})\n",
    "    html = response.content\n",
    "    x1 = slugify(x)\n",
    "    filename = x1 + '.html'\n",
    "    file = open(filename, \"wb\")\n",
    "    file.write(html)\n",
    "    s.cookies.clear()\n",
    "index_page(url)"
   ]
  },
  {
   "cell_type": "code",
   "execution_count": null,
   "metadata": {},
   "outputs": [],
   "source": [
    "#with open(path + '/' + filename, \"wb\") as f:f.write(html)"
   ]
  },
  {
   "cell_type": "markdown",
   "metadata": {
    "id": "VVDNEdyVSEkM"
   },
   "source": [
    "### Step 6: Sequentially loop through the list of links, running the index_page function each time.\n",
    "\n",
    "Remember to include `%%time` at the beginning of the cell so that it measures the time it takes for the cell to run. \n",
    "\n",
    "_hint: Use tqdm to keep track of the time._ "
   ]
  },
  {
   "cell_type": "code",
   "execution_count": 19,
   "metadata": {
    "ExecuteTime": {
     "end_time": "2021-04-16T14:05:03.526663Z",
     "start_time": "2021-04-16T14:05:03.507685Z"
    },
    "id": "1akpUc5_SEkN"
   },
   "outputs": [],
   "source": [
    "import time \n",
    "from tqdm.auto import tqdm"
   ]
  },
  {
   "cell_type": "code",
   "execution_count": 20,
   "metadata": {
    "ExecuteTime": {
     "end_time": "2021-04-16T14:14:54.011946Z",
     "start_time": "2021-04-16T14:05:14.175106Z"
    },
    "scrolled": true
   },
   "outputs": [
    {
     "data": {
      "application/vnd.jupyter.widget-view+json": {
       "model_id": "322a7215f04e4bb5b57d875b8eee137d",
       "version_major": 2,
       "version_minor": 0
      },
      "text/plain": [
       "HBox(children=(HTML(value=''), FloatProgress(value=0.0, max=268.0), HTML(value='')))"
      ]
     },
     "metadata": {},
     "output_type": "display_data"
    },
    {
     "name": "stdout",
     "output_type": "stream",
     "text": [
      "\n",
      "Wall time: 9min 39s\n"
     ]
    },
    {
     "data": {
      "text/plain": [
       "[None,\n",
       " None,\n",
       " None,\n",
       " None,\n",
       " None,\n",
       " None,\n",
       " None,\n",
       " None,\n",
       " None,\n",
       " None,\n",
       " None,\n",
       " None,\n",
       " None,\n",
       " None,\n",
       " None,\n",
       " None,\n",
       " None,\n",
       " None,\n",
       " None,\n",
       " None,\n",
       " None,\n",
       " None,\n",
       " None,\n",
       " None,\n",
       " None,\n",
       " None,\n",
       " None,\n",
       " None,\n",
       " None,\n",
       " None,\n",
       " None,\n",
       " None,\n",
       " None,\n",
       " None,\n",
       " None,\n",
       " None,\n",
       " None,\n",
       " None,\n",
       " None,\n",
       " None,\n",
       " None,\n",
       " None,\n",
       " None,\n",
       " None,\n",
       " None,\n",
       " None,\n",
       " None,\n",
       " None,\n",
       " None,\n",
       " None,\n",
       " None,\n",
       " None,\n",
       " None,\n",
       " None,\n",
       " None,\n",
       " None,\n",
       " None,\n",
       " None,\n",
       " None,\n",
       " None,\n",
       " None,\n",
       " None,\n",
       " None,\n",
       " None,\n",
       " None,\n",
       " None,\n",
       " None,\n",
       " None,\n",
       " None,\n",
       " None,\n",
       " None,\n",
       " None,\n",
       " None,\n",
       " None,\n",
       " None,\n",
       " None,\n",
       " None,\n",
       " None,\n",
       " None,\n",
       " None,\n",
       " None,\n",
       " None,\n",
       " None,\n",
       " None,\n",
       " None,\n",
       " None,\n",
       " None,\n",
       " None,\n",
       " None,\n",
       " None,\n",
       " None,\n",
       " None,\n",
       " None,\n",
       " None,\n",
       " None,\n",
       " None,\n",
       " None,\n",
       " None,\n",
       " None,\n",
       " None,\n",
       " None,\n",
       " None,\n",
       " None,\n",
       " None,\n",
       " None,\n",
       " None,\n",
       " None,\n",
       " None,\n",
       " None,\n",
       " None,\n",
       " None,\n",
       " None,\n",
       " None,\n",
       " None,\n",
       " None,\n",
       " None,\n",
       " None,\n",
       " None,\n",
       " None,\n",
       " None,\n",
       " None,\n",
       " None,\n",
       " None,\n",
       " None,\n",
       " None,\n",
       " None,\n",
       " None,\n",
       " None,\n",
       " None,\n",
       " None,\n",
       " None,\n",
       " None,\n",
       " None,\n",
       " None,\n",
       " None,\n",
       " None,\n",
       " None,\n",
       " None,\n",
       " None,\n",
       " None,\n",
       " None,\n",
       " None,\n",
       " None,\n",
       " None,\n",
       " None,\n",
       " None,\n",
       " None,\n",
       " None,\n",
       " None,\n",
       " None,\n",
       " None,\n",
       " None,\n",
       " None,\n",
       " None,\n",
       " None,\n",
       " None,\n",
       " None,\n",
       " None,\n",
       " None,\n",
       " None,\n",
       " None,\n",
       " None,\n",
       " None,\n",
       " None,\n",
       " None,\n",
       " None,\n",
       " None,\n",
       " None,\n",
       " None,\n",
       " None,\n",
       " None,\n",
       " None,\n",
       " None,\n",
       " None,\n",
       " None,\n",
       " None,\n",
       " None,\n",
       " None,\n",
       " None,\n",
       " None,\n",
       " None,\n",
       " None,\n",
       " None,\n",
       " None,\n",
       " None,\n",
       " None,\n",
       " None,\n",
       " None,\n",
       " None,\n",
       " None,\n",
       " None,\n",
       " None,\n",
       " None,\n",
       " None,\n",
       " None,\n",
       " None,\n",
       " None,\n",
       " None,\n",
       " None,\n",
       " None,\n",
       " None,\n",
       " None,\n",
       " None,\n",
       " None,\n",
       " None,\n",
       " None,\n",
       " None,\n",
       " None,\n",
       " None,\n",
       " None,\n",
       " None,\n",
       " None,\n",
       " None,\n",
       " None,\n",
       " None,\n",
       " None,\n",
       " None,\n",
       " None,\n",
       " None,\n",
       " None,\n",
       " None,\n",
       " None,\n",
       " None,\n",
       " None,\n",
       " None,\n",
       " None,\n",
       " None,\n",
       " None,\n",
       " None,\n",
       " None,\n",
       " None,\n",
       " None,\n",
       " None,\n",
       " None,\n",
       " None,\n",
       " None,\n",
       " None,\n",
       " None,\n",
       " None,\n",
       " None,\n",
       " None,\n",
       " None,\n",
       " None,\n",
       " None,\n",
       " None,\n",
       " None,\n",
       " None,\n",
       " None,\n",
       " None,\n",
       " None,\n",
       " None,\n",
       " None,\n",
       " None,\n",
       " None,\n",
       " None,\n",
       " None,\n",
       " None,\n",
       " None,\n",
       " None,\n",
       " None,\n",
       " None,\n",
       " None,\n",
       " None,\n",
       " None,\n",
       " None,\n",
       " None,\n",
       " None,\n",
       " None]"
      ]
     },
     "execution_count": 20,
     "metadata": {},
     "output_type": "execute_result"
    }
   ],
   "source": [
    "%%time\n",
    "list(map(index_page, tqdm(final)))"
   ]
  },
  {
   "cell_type": "markdown",
   "metadata": {
    "id": "KWa8qXs3SEkQ"
   },
   "source": [
    "### Step 7: Perform the page indexing in parallel and note the difference in performance.\n",
    "\n",
    "Remember to include `%%time` at the beginning of the cell so that it measures the time it takes for the cell to run.\n",
    "\n",
    "Use both methods, i.e., for one hand use the `multiprocess` module to use the function created in the jupyter notebook and run the download in parallel.\n",
    "\n",
    "And for another hand create a python file containing the function to download the file and use the `multiprocessing` module to run. "
   ]
  },
  {
   "cell_type": "code",
   "execution_count": 27,
   "metadata": {
    "ExecuteTime": {
     "end_time": "2021-04-16T14:18:57.035176Z",
     "start_time": "2021-04-16T14:18:57.012237Z"
    }
   },
   "outputs": [
    {
     "data": {
      "text/plain": [
       "4"
      ]
     },
     "execution_count": 27,
     "metadata": {},
     "output_type": "execute_result"
    }
   ],
   "source": [
    "from multiprocessing import Pool, cpu_count\n",
    "cpu_count()"
   ]
  },
  {
   "cell_type": "code",
   "execution_count": 39,
   "metadata": {
    "ExecuteTime": {
     "end_time": "2021-04-16T14:28:46.316547Z",
     "start_time": "2021-04-16T14:28:46.305582Z"
    },
    "id": "BSA-oQV9SEkT"
   },
   "outputs": [],
   "source": [
    "import requests\n",
    "import time \n",
    "from tqdm.auto import tqdm\n",
    "from multiprocess import Pool\n",
    "import multiprocessing"
   ]
  },
  {
   "cell_type": "code",
   "execution_count": 42,
   "metadata": {
    "ExecuteTime": {
     "end_time": "2021-04-16T14:31:51.631763Z",
     "start_time": "2021-04-16T14:29:24.632478Z"
    },
    "scrolled": false
   },
   "outputs": [
    {
     "name": "stdout",
     "output_type": "stream",
     "text": [
      "Wall time: 2min 26s\n"
     ]
    }
   ],
   "source": [
    "%%time\n",
    "pool = Pool()\n",
    "result = pool.map(index_page, final)\n",
    "pool.terminate()"
   ]
  },
  {
   "cell_type": "code",
   "execution_count": 49,
   "metadata": {
    "ExecuteTime": {
     "end_time": "2021-04-16T14:34:14.908783Z",
     "start_time": "2021-04-16T14:34:14.901802Z"
    }
   },
   "outputs": [],
   "source": [
    "def count_items(path):\n",
    "    return len(os.listdir(path))"
   ]
  },
  {
   "cell_type": "code",
   "execution_count": 44,
   "metadata": {
    "ExecuteTime": {
     "end_time": "2021-04-16T14:32:50.421252Z",
     "start_time": "2021-04-16T14:32:50.397316Z"
    }
   },
   "outputs": [
    {
     "data": {
      "text/plain": [
       "267"
      ]
     },
     "execution_count": 44,
     "metadata": {},
     "output_type": "execute_result"
    }
   ],
   "source": [
    "count_items(path)"
   ]
  },
  {
   "cell_type": "code",
   "execution_count": 58,
   "metadata": {
    "ExecuteTime": {
     "end_time": "2021-04-16T14:40:54.879696Z",
     "start_time": "2021-04-16T14:40:54.383986Z"
    }
   },
   "outputs": [
    {
     "name": "stdout",
     "output_type": "stream",
     "text": [
      "Wall time: 191 ms\n"
     ]
    }
   ],
   "source": [
    "%%time\n",
    "pool = Pool()\n",
    "result = pool.map_async(index_page, final)"
   ]
  },
  {
   "cell_type": "code",
   "execution_count": 62,
   "metadata": {
    "ExecuteTime": {
     "end_time": "2021-04-16T14:43:31.291226Z",
     "start_time": "2021-04-16T14:43:31.281256Z"
    }
   },
   "outputs": [
    {
     "data": {
      "text/plain": [
       "266"
      ]
     },
     "execution_count": 62,
     "metadata": {},
     "output_type": "execute_result"
    }
   ],
   "source": [
    "count_items(path)"
   ]
  },
  {
   "cell_type": "markdown",
   "metadata": {
    "id": "4Sx1hLdbTEp5"
   },
   "source": [
    "**BONUS**: Create a function that counts how many files are there in the wikipedia folder using the `os` module. \n",
    "\n",
    "Delete the files from the folder before you run and perform the above solution asynchronously. \n",
    "\n",
    "Use your function to check how many files are being downloaded."
   ]
  }
 ],
 "metadata": {
  "colab": {
   "collapsed_sections": [],
   "name": "main.ipynb",
   "provenance": []
  },
  "kernelspec": {
   "display_name": "Python 3",
   "language": "python",
   "name": "python3"
  },
  "language_info": {
   "codemirror_mode": {
    "name": "ipython",
    "version": 3
   },
   "file_extension": ".py",
   "mimetype": "text/x-python",
   "name": "python",
   "nbconvert_exporter": "python",
   "pygments_lexer": "ipython3",
   "version": "3.8.5"
  },
  "toc": {
   "base_numbering": 1,
   "nav_menu": {},
   "number_sections": true,
   "sideBar": true,
   "skip_h1_title": false,
   "title_cell": "Table of Contents",
   "title_sidebar": "Contents",
   "toc_cell": false,
   "toc_position": {},
   "toc_section_display": true,
   "toc_window_display": false
  },
  "varInspector": {
   "cols": {
    "lenName": 16,
    "lenType": 16,
    "lenVar": 40
   },
   "kernels_config": {
    "python": {
     "delete_cmd_postfix": "",
     "delete_cmd_prefix": "del ",
     "library": "var_list.py",
     "varRefreshCmd": "print(var_dic_list())"
    },
    "r": {
     "delete_cmd_postfix": ") ",
     "delete_cmd_prefix": "rm(",
     "library": "var_list.r",
     "varRefreshCmd": "cat(var_dic_list()) "
    }
   },
   "types_to_exclude": [
    "module",
    "function",
    "builtin_function_or_method",
    "instance",
    "_Feature"
   ],
   "window_display": false
  }
 },
 "nbformat": 4,
 "nbformat_minor": 1
}
