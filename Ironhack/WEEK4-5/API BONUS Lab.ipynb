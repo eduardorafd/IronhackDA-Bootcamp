{
 "cells": [
  {
   "cell_type": "markdown",
   "metadata": {},
   "source": [
    "# Additional Challenge for the Nerds"
   ]
  },
  {
   "cell_type": "markdown",
   "metadata": {},
   "source": [
    "#### Create a new file called test.txt.\n",
    "\n",
    "* Create a new repository.\n",
    "* Call the API endpoint to create a new file in the new repository.\n",
    "\n",
    "Include the command you used in the terminal to call the API endpoint and create the file:"
   ]
  },
  {
   "cell_type": "code",
   "execution_count": 2,
   "metadata": {
    "ExecuteTime": {
     "end_time": "2021-04-17T13:09:31.278152Z",
     "start_time": "2021-04-17T13:08:53.429299Z"
    }
   },
   "outputs": [],
   "source": [
    "import pandas as pd\n",
    "import numpy as np\n",
    "from datetime import datetime\n",
    "from tqdm.auto import tqdm\n",
    "import json\n",
    "import requests"
   ]
  },
  {
   "cell_type": "code",
   "execution_count": 3,
   "metadata": {
    "ExecuteTime": {
     "end_time": "2021-04-17T13:09:33.414875Z",
     "start_time": "2021-04-17T13:09:31.329155Z"
    },
    "collapsed": true
   },
   "outputs": [
    {
     "data": {
      "text/plain": [
       "{'login': 'eduardorafd',\n",
       " 'id': 80002453,\n",
       " 'node_id': 'MDQ6VXNlcjgwMDAyNDUz',\n",
       " 'avatar_url': 'https://avatars.githubusercontent.com/u/80002453?v=4',\n",
       " 'gravatar_id': '',\n",
       " 'url': 'https://api.github.com/users/eduardorafd',\n",
       " 'html_url': 'https://github.com/eduardorafd',\n",
       " 'followers_url': 'https://api.github.com/users/eduardorafd/followers',\n",
       " 'following_url': 'https://api.github.com/users/eduardorafd/following{/other_user}',\n",
       " 'gists_url': 'https://api.github.com/users/eduardorafd/gists{/gist_id}',\n",
       " 'starred_url': 'https://api.github.com/users/eduardorafd/starred{/owner}{/repo}',\n",
       " 'subscriptions_url': 'https://api.github.com/users/eduardorafd/subscriptions',\n",
       " 'organizations_url': 'https://api.github.com/users/eduardorafd/orgs',\n",
       " 'repos_url': 'https://api.github.com/users/eduardorafd/repos',\n",
       " 'events_url': 'https://api.github.com/users/eduardorafd/events{/privacy}',\n",
       " 'received_events_url': 'https://api.github.com/users/eduardorafd/received_events',\n",
       " 'type': 'User',\n",
       " 'site_admin': False,\n",
       " 'name': 'Eduardo Rafael',\n",
       " 'company': None,\n",
       " 'blog': '',\n",
       " 'location': None,\n",
       " 'email': None,\n",
       " 'hireable': None,\n",
       " 'bio': None,\n",
       " 'twitter_username': None,\n",
       " 'public_repos': 4,\n",
       " 'public_gists': 0,\n",
       " 'followers': 2,\n",
       " 'following': 3,\n",
       " 'created_at': '2021-03-03T19:13:45Z',\n",
       " 'updated_at': '2021-04-13T12:10:08Z'}"
      ]
     },
     "execution_count": 3,
     "metadata": {},
     "output_type": "execute_result"
    }
   ],
   "source": [
    "user = 'eduardorafd'\n",
    "token = 'x'\n",
    "x = requests.get(\"https://api.github.com/user\", auth=(user,token))\n",
    "x.json()"
   ]
  },
  {
   "cell_type": "code",
   "execution_count": 28,
   "metadata": {
    "ExecuteTime": {
     "end_time": "2021-04-17T13:41:23.076522Z",
     "start_time": "2021-04-17T13:41:22.595909Z"
    },
    "collapsed": true
   },
   "outputs": [
    {
     "data": {
      "text/plain": [
       "<Response [401]>"
      ]
     },
     "execution_count": 28,
     "metadata": {},
     "output_type": "execute_result"
    }
   ],
   "source": [
    "headers = {\n",
    "    'Accept': 'token x',\n",
    "}\n",
    "\n",
    "data = {\n",
    "  '{\"name\": \"newone\", \"message\": \"Initial Commit\", \"committer\": {\"name\": \"Eduardo Rafael\", \"email\": \"eduardoraf32142@gmail.com\"}, \"content\": \"bXkgbmV3IGZpbGUgY29udGVudHM': '\", \"note\":\"Test Commit\"}'\n",
    "}\n",
    "\n",
    "response = requests.post('https://api.github.com/user/repos', headers=headers, data=data)\n",
    "response"
   ]
  },
  {
   "cell_type": "code",
   "execution_count": 12,
   "metadata": {
    "ExecuteTime": {
     "end_time": "2021-04-17T13:25:02.554315Z",
     "start_time": "2021-04-17T13:25:01.969998Z"
    },
    "collapsed": true
   },
   "outputs": [
    {
     "data": {
      "text/plain": [
       "<Response [404]>"
      ]
     },
     "execution_count": 12,
     "metadata": {},
     "output_type": "execute_result"
    }
   ],
   "source": [
    "headers = {\n",
    "    'Authorization': 'token x',\n",
    "}\n",
    "\n",
    "data = '{\"path\": \"test.txt\", \"message\": \"Initial Commit\", \"committer\": {\"name\": \"Eduardo Rafael\", \"email\": \"eduardoraf32142@gmail.com\"}, \"content\": \"bXkgbmV3IGZpbGUgY29udGVudHM=\", \"branch\": \"main\"}'\n",
    "\n",
    "response = requests.put('https://api.github.com/repos/eduardorafd/APILAB/contents/test.txt', headers=headers, data=data)\n",
    "response"
   ]
  }
 ],
 "metadata": {
  "kernelspec": {
   "display_name": "Python 3",
   "language": "python",
   "name": "python3"
  },
  "language_info": {
   "codemirror_mode": {
    "name": "ipython",
    "version": 3
   },
   "file_extension": ".py",
   "mimetype": "text/x-python",
   "name": "python",
   "nbconvert_exporter": "python",
   "pygments_lexer": "ipython3",
   "version": "3.8.5"
  },
  "toc": {
   "base_numbering": 1,
   "nav_menu": {},
   "number_sections": true,
   "sideBar": true,
   "skip_h1_title": false,
   "title_cell": "Table of Contents",
   "title_sidebar": "Contents",
   "toc_cell": false,
   "toc_position": {},
   "toc_section_display": true,
   "toc_window_display": false
  },
  "varInspector": {
   "cols": {
    "lenName": 16,
    "lenType": 16,
    "lenVar": 40
   },
   "kernels_config": {
    "python": {
     "delete_cmd_postfix": "",
     "delete_cmd_prefix": "del ",
     "library": "var_list.py",
     "varRefreshCmd": "print(var_dic_list())"
    },
    "r": {
     "delete_cmd_postfix": ") ",
     "delete_cmd_prefix": "rm(",
     "library": "var_list.r",
     "varRefreshCmd": "cat(var_dic_list()) "
    }
   },
   "types_to_exclude": [
    "module",
    "function",
    "builtin_function_or_method",
    "instance",
    "_Feature"
   ],
   "window_display": false
  }
 },
 "nbformat": 4,
 "nbformat_minor": 2
}
